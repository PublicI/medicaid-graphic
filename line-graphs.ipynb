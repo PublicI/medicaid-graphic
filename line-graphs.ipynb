{
 "cells": [
  {
   "cell_type": "markdown",
   "metadata": {},
   "source": [
    "# Medicaid, drug spending"
   ]
  },
  {
   "cell_type": "code",
   "execution_count": 2,
   "metadata": {},
   "outputs": [
    {
     "name": "stderr",
     "output_type": "stream",
     "text": [
      "\n",
      "Attaching package: ‘dplyr’\n",
      "\n",
      "The following objects are masked from ‘package:stats’:\n",
      "\n",
      "    filter, lag\n",
      "\n",
      "The following objects are masked from ‘package:base’:\n",
      "\n",
      "    intersect, setdiff, setequal, union\n",
      "\n"
     ]
    }
   ],
   "source": [
    "budgets = read.csv('budgets.csv', sep = ';', strip.white = TRUE)\n",
    "drugs = read.csv('drug-spending.csv', sep = ';', strip.white = TRUE)\n",
    "\n",
    "library(dplyr)\n",
    "library(ggplot2)\n",
    "library(repr)"
   ]
  },
  {
   "cell_type": "markdown",
   "metadata": {},
   "source": [
    "Get summaries for plots"
   ]
  },
  {
   "cell_type": "code",
   "execution_count": 5,
   "metadata": {},
   "outputs": [
    {
     "data": {
      "text/html": [
       "<ol class=list-inline>\n",
       "\t<li>20.5227898783695</li>\n",
       "\t<li>21.9426586527299</li>\n",
       "\t<li>22.2247089433275</li>\n",
       "\t<li>23.802270895575</li>\n",
       "\t<li>23.9051055342749</li>\n",
       "\t<li>24.3223411090619</li>\n",
       "\t<li>26.5210641509469</li>\n",
       "\t<li>27.9348080983105</li>\n",
       "\t<li>28.7097686626795</li>\n",
       "\t<li>28.9651196220617</li>\n",
       "</ol>\n"
      ],
      "text/latex": [
       "\\begin{enumerate*}\n",
       "\\item 20.5227898783695\n",
       "\\item 21.9426586527299\n",
       "\\item 22.2247089433275\n",
       "\\item 23.802270895575\n",
       "\\item 23.9051055342749\n",
       "\\item 24.3223411090619\n",
       "\\item 26.5210641509469\n",
       "\\item 27.9348080983105\n",
       "\\item 28.7097686626795\n",
       "\\item 28.9651196220617\n",
       "\\end{enumerate*}\n"
      ],
      "text/markdown": [
       "1. 20.5227898783695\n",
       "2. 21.9426586527299\n",
       "3. 22.2247089433275\n",
       "4. 23.802270895575\n",
       "5. 23.9051055342749\n",
       "6. 24.3223411090619\n",
       "7. 26.5210641509469\n",
       "8. 27.9348080983105\n",
       "9. 28.7097686626795\n",
       "10. 28.9651196220617\n",
       "\n",
       "\n"
      ],
      "text/plain": [
       " [1] 20.52279 21.94266 22.22471 23.80227 23.90511 24.32234 26.52106 27.93481\n",
       " [9] 28.70977 28.96512"
      ]
     },
     "metadata": {},
     "output_type": "display_data"
    },
    {
     "data": {
      "text/html": [
       "<table>\n",
       "<thead><tr><th scope=col>year</th><th scope=col>medicaid_perc</th></tr></thead>\n",
       "<tbody>\n",
       "\t<tr><td>2008    </td><td>20.52279</td></tr>\n",
       "\t<tr><td>2009    </td><td>21.94266</td></tr>\n",
       "\t<tr><td>2010    </td><td>22.22471</td></tr>\n",
       "\t<tr><td>2011    </td><td>23.80227</td></tr>\n",
       "\t<tr><td>2012    </td><td>23.90511</td></tr>\n",
       "\t<tr><td>2013    </td><td>24.32234</td></tr>\n",
       "\t<tr><td>2014    </td><td>26.52106</td></tr>\n",
       "\t<tr><td>2015    </td><td>27.93481</td></tr>\n",
       "\t<tr><td>2016    </td><td>28.70977</td></tr>\n",
       "\t<tr><td>2017    </td><td>28.96512</td></tr>\n",
       "</tbody>\n",
       "</table>\n"
      ],
      "text/latex": [
       "\\begin{tabular}{r|ll}\n",
       " year & medicaid\\_perc\\\\\n",
       "\\hline\n",
       "\t 2008     & 20.52279\\\\\n",
       "\t 2009     & 21.94266\\\\\n",
       "\t 2010     & 22.22471\\\\\n",
       "\t 2011     & 23.80227\\\\\n",
       "\t 2012     & 23.90511\\\\\n",
       "\t 2013     & 24.32234\\\\\n",
       "\t 2014     & 26.52106\\\\\n",
       "\t 2015     & 27.93481\\\\\n",
       "\t 2016     & 28.70977\\\\\n",
       "\t 2017     & 28.96512\\\\\n",
       "\\end{tabular}\n"
      ],
      "text/markdown": [
       "\n",
       "year | medicaid_perc | \n",
       "|---|---|---|---|---|---|---|---|---|---|\n",
       "| 2008     | 20.52279 | \n",
       "| 2009     | 21.94266 | \n",
       "| 2010     | 22.22471 | \n",
       "| 2011     | 23.80227 | \n",
       "| 2012     | 23.90511 | \n",
       "| 2013     | 24.32234 | \n",
       "| 2014     | 26.52106 | \n",
       "| 2015     | 27.93481 | \n",
       "| 2016     | 28.70977 | \n",
       "| 2017     | 28.96512 | \n",
       "\n",
       "\n"
      ],
      "text/plain": [
       "   year medicaid_perc\n",
       "1  2008 20.52279     \n",
       "2  2009 21.94266     \n",
       "3  2010 22.22471     \n",
       "4  2011 23.80227     \n",
       "5  2012 23.90511     \n",
       "6  2013 24.32234     \n",
       "7  2014 26.52106     \n",
       "8  2015 27.93481     \n",
       "9  2016 28.70977     \n",
       "10 2017 28.96512     "
      ]
     },
     "metadata": {},
     "output_type": "display_data"
    }
   ],
   "source": [
    "amts = budgets %>%\n",
    "    group_by(year) %>%\n",
    "    summarise(medicaid_perc = sum(medicaid_total)/sum(all_spending_total)*100)\n",
    "amts$medicaid_perc\n",
    "amts"
   ]
  },
  {
   "cell_type": "code",
   "execution_count": 4,
   "metadata": {},
   "outputs": [
    {
     "data": {
      "text/html": [
       "<ol class=list-inline>\n",
       "\t<li>16.24908419176</li>\n",
       "\t<li>16.29334394022</li>\n",
       "\t<li>21.48478443656</li>\n",
       "\t<li>21.66594094978</li>\n",
       "\t<li>20.42738239061</li>\n",
       "\t<li>19.66609261963</li>\n",
       "\t<li>27.19969485053</li>\n",
       "\t<li>31.58981989909</li>\n",
       "\t<li>30.82381491654</li>\n",
       "</ol>\n"
      ],
      "text/latex": [
       "\\begin{enumerate*}\n",
       "\\item 16.24908419176\n",
       "\\item 16.29334394022\n",
       "\\item 21.48478443656\n",
       "\\item 21.66594094978\n",
       "\\item 20.42738239061\n",
       "\\item 19.66609261963\n",
       "\\item 27.19969485053\n",
       "\\item 31.58981989909\n",
       "\\item 30.82381491654\n",
       "\\end{enumerate*}\n"
      ],
      "text/markdown": [
       "1. 16.24908419176\n",
       "2. 16.29334394022\n",
       "3. 21.48478443656\n",
       "4. 21.66594094978\n",
       "5. 20.42738239061\n",
       "6. 19.66609261963\n",
       "7. 27.19969485053\n",
       "8. 31.58981989909\n",
       "9. 30.82381491654\n",
       "\n",
       "\n"
      ],
      "text/plain": [
       "[1] 16.24908 16.29334 21.48478 21.66594 20.42738 19.66609 27.19969 31.58982\n",
       "[9] 30.82381"
      ]
     },
     "metadata": {},
     "output_type": "display_data"
    },
    {
     "data": {
      "text/html": [
       "<table>\n",
       "<thead><tr><th scope=col>year</th><th scope=col>total</th></tr></thead>\n",
       "<tbody>\n",
       "\t<tr><td>2008    </td><td>16.24908</td></tr>\n",
       "\t<tr><td>2009    </td><td>16.29334</td></tr>\n",
       "\t<tr><td>2010    </td><td>21.48478</td></tr>\n",
       "\t<tr><td>2011    </td><td>21.66594</td></tr>\n",
       "\t<tr><td>2012    </td><td>20.42738</td></tr>\n",
       "\t<tr><td>2013    </td><td>19.66609</td></tr>\n",
       "\t<tr><td>2014    </td><td>27.19969</td></tr>\n",
       "\t<tr><td>2015    </td><td>31.58982</td></tr>\n",
       "\t<tr><td>2016    </td><td>30.82381</td></tr>\n",
       "</tbody>\n",
       "</table>\n"
      ],
      "text/latex": [
       "\\begin{tabular}{r|ll}\n",
       " year & total\\\\\n",
       "\\hline\n",
       "\t 2008     & 16.24908\\\\\n",
       "\t 2009     & 16.29334\\\\\n",
       "\t 2010     & 21.48478\\\\\n",
       "\t 2011     & 21.66594\\\\\n",
       "\t 2012     & 20.42738\\\\\n",
       "\t 2013     & 19.66609\\\\\n",
       "\t 2014     & 27.19969\\\\\n",
       "\t 2015     & 31.58982\\\\\n",
       "\t 2016     & 30.82381\\\\\n",
       "\\end{tabular}\n"
      ],
      "text/markdown": [
       "\n",
       "year | total | \n",
       "|---|---|---|---|---|---|---|---|---|\n",
       "| 2008     | 16.24908 | \n",
       "| 2009     | 16.29334 | \n",
       "| 2010     | 21.48478 | \n",
       "| 2011     | 21.66594 | \n",
       "| 2012     | 20.42738 | \n",
       "| 2013     | 19.66609 | \n",
       "| 2014     | 27.19969 | \n",
       "| 2015     | 31.58982 | \n",
       "| 2016     | 30.82381 | \n",
       "\n",
       "\n"
      ],
      "text/plain": [
       "  year total   \n",
       "1 2008 16.24908\n",
       "2 2009 16.29334\n",
       "3 2010 21.48478\n",
       "4 2011 21.66594\n",
       "5 2012 20.42738\n",
       "6 2013 19.66609\n",
       "7 2014 27.19969\n",
       "8 2015 31.58982\n",
       "9 2016 30.82381"
      ]
     },
     "metadata": {},
     "output_type": "display_data"
    }
   ],
   "source": [
    "totals = drugs %>%\n",
    "    group_by(year) %>%\n",
    "    summarise(total = sum(spending_less_rebates)/1000000000)\n",
    "totals$total\n",
    "totals"
   ]
  },
  {
   "cell_type": "code",
   "execution_count": 10,
   "metadata": {},
   "outputs": [],
   "source": [
    "df$drug_spending = df$drug_spending %>% sub('\\\\$','',.) %>% gsub('\\\\,','',.) %>% as.numeric(.)\n",
    "df$drug_rebates = df$drug_rebates %>% sub('\\\\$','',.) %>% gsub('\\\\,','',.) %>% as.numeric(.)\n",
    "df$spending_less_rebates = df$spending_less_rebates %>% sub('\\\\$','',.) %>% gsub('\\\\,','',.) %>% as.numeric(.)\n",
    "df$medicaid_state = df$medicaid_state %>% sub('\\\\$','',.) %>% gsub('\\\\,','',.) %>% as.numeric(.)\n",
    "df$medicaid_federal = df$medicaid_federal %>% sub('\\\\$','',.) %>% gsub('\\\\,','',.) %>% as.numeric(.)\n",
    "df$medicaid_total = df$medicaid_total %>% sub('\\\\$','',.) %>% gsub('\\\\,','',.) %>% as.numeric(.)\n",
    "df$all_spending_state = df$all_spending_state %>% sub('\\\\$','',.) %>% gsub('\\\\,','',.) %>% as.numeric(.)\n",
    "df$all_spending_federal = df$all_spending_federal %>% sub('\\\\$','',.) %>% gsub('\\\\,','',.) %>% as.numeric(.)\n",
    "df$all_spending_total = df$all_spending_total %>% sub('\\\\$','',.) %>% gsub('\\\\,','',.) %>% as.numeric(.)\n",
    "df$drugs_as_share_of_medicaid = df$drugs_as_share_of_medicaid %>% sub('\\\\%','',.) %>% as.character(.) %>% as.numeric(.)\n",
    "df$medicaid_as_share_of_all_spending = df$medicaid_as_share_of_all_spending %>% sub('\\\\%','',.) %>% as.character(.) %>% as.numeric(.)"
   ]
  },
  {
   "cell_type": "code",
   "execution_count": 11,
   "metadata": {},
   "outputs": [],
   "source": [
    "df$medicaid_percent_total = (df$medicaid_total / df$all_spending_tota) * 100 %>% round(., digits = 2)\n",
    "df$medicaid_percent_state = (df$medicaid_state / df$all_spending_state) * 100 %>% round(., digits = 2)"
   ]
  },
  {
   "cell_type": "code",
   "execution_count": 4,
   "metadata": {},
   "outputs": [
    {
     "data": {
      "text/html": [
       "<table>\n",
       "<thead><tr><th scope=col>period_covered</th><th scope=col>st_abbreviation</th><th scope=col>st_name</th><th scope=col>drug_spending</th><th scope=col>drug_rebates</th><th scope=col>spending_less_rebates</th><th scope=col>medicaid_state</th><th scope=col>medicaid_federal</th><th scope=col>medicaid_total</th><th scope=col>all_spending_state</th><th scope=col>all_spending_federal</th><th scope=col>all_spending_total</th><th scope=col>drugs_as_share_of_medicaid</th><th scope=col>medicaid_as_share_of_all_spending</th><th scope=col>medicaid_percent_total</th><th scope=col>medicaid_percent_state</th></tr></thead>\n",
       "<tbody>\n",
       "\t<tr><td>2016        </td><td>AK          </td><td>Alaska      </td><td> 108594349  </td><td>  -53673099 </td><td>  54921250  </td><td>  636190900 </td><td> 1066381900 </td><td> 1702572800 </td><td>  6754772879</td><td> 3277197749 </td><td> 10031970628</td><td>3.23        </td><td>16.97       </td><td>16.97147    </td><td> 9.418391   </td></tr>\n",
       "\t<tr><td>2016        </td><td>AL          </td><td>Alabama     </td><td> 667346361  </td><td> -391980305 </td><td> 275366056  </td><td> 1961000000 </td><td> 4393000000 </td><td> 6354000000 </td><td> 16203000000</td><td> 9635000000 </td><td> 25838000000</td><td>4.33        </td><td>24.59       </td><td>24.59169    </td><td>12.102697   </td></tr>\n",
       "\t<tr><td>2016        </td><td>AR          </td><td>Arkansas    </td><td> 339785707  </td><td> -204345993 </td><td> 135439714  </td><td> 1478700000 </td><td> 5077000000 </td><td> 6555700000 </td><td> 16562824000</td><td> 7397700000 </td><td> 23960524000</td><td>2.07        </td><td>27.36       </td><td>27.36042    </td><td> 8.927825   </td></tr>\n",
       "\t<tr><td>2016        </td><td>AZ          </td><td>Arizona     </td><td>1246118344  </td><td> -604294056 </td><td> 641824288  </td><td> 2831000000 </td><td> 8690000000 </td><td>11521000000 </td><td> 25515000000</td><td>14167000000 </td><td> 39682000000</td><td>5.57        </td><td>29.03       </td><td>29.03331    </td><td>11.095434   </td></tr>\n",
       "\t<tr><td>2016        </td><td>CA          </td><td>California  </td><td>8004575487  </td><td>-4277024489 </td><td>3727550998  </td><td>28323000000 </td><td>53337000000 </td><td>81660000000 </td><td>160209000000</td><td>90690000000 </td><td>250899000000</td><td>4.56        </td><td>32.55       </td><td>32.54696    </td><td>17.678782   </td></tr>\n",
       "\t<tr><td>2016        </td><td>CO          </td><td>Colorado    </td><td> 908800937  </td><td> -453282840 </td><td> 455518097  </td><td> 3603000000 </td><td> 5382000000 </td><td> 8985000000 </td><td> 27210000000</td><td> 9517000000 </td><td> 36727000000</td><td>5.07        </td><td>24.46       </td><td>24.46429    </td><td>13.241455   </td></tr>\n",
       "</tbody>\n",
       "</table>\n"
      ],
      "text/latex": [
       "\\begin{tabular}{r|llllllllllllllll}\n",
       " period\\_covered & st\\_abbreviation & st\\_name & drug\\_spending & drug\\_rebates & spending\\_less\\_rebates & medicaid\\_state & medicaid\\_federal & medicaid\\_total & all\\_spending\\_state & all\\_spending\\_federal & all\\_spending\\_total & drugs\\_as\\_share\\_of\\_medicaid & medicaid\\_as\\_share\\_of\\_all\\_spending & medicaid\\_percent\\_total & medicaid\\_percent\\_state\\\\\n",
       "\\hline\n",
       "\t 2016         & AK           & Alaska       &  108594349   &   -53673099  &   54921250   &   636190900  &  1066381900  &  1702572800  &   6754772879 &  3277197749  &  10031970628 & 3.23         & 16.97        & 16.97147     &  9.418391   \\\\\n",
       "\t 2016         & AL           & Alabama      &  667346361   &  -391980305  &  275366056   &  1961000000  &  4393000000  &  6354000000  &  16203000000 &  9635000000  &  25838000000 & 4.33         & 24.59        & 24.59169     & 12.102697   \\\\\n",
       "\t 2016         & AR           & Arkansas     &  339785707   &  -204345993  &  135439714   &  1478700000  &  5077000000  &  6555700000  &  16562824000 &  7397700000  &  23960524000 & 2.07         & 27.36        & 27.36042     &  8.927825   \\\\\n",
       "\t 2016         & AZ           & Arizona      & 1246118344   &  -604294056  &  641824288   &  2831000000  &  8690000000  & 11521000000  &  25515000000 & 14167000000  &  39682000000 & 5.57         & 29.03        & 29.03331     & 11.095434   \\\\\n",
       "\t 2016         & CA           & California   & 8004575487   & -4277024489  & 3727550998   & 28323000000  & 53337000000  & 81660000000  & 160209000000 & 90690000000  & 250899000000 & 4.56         & 32.55        & 32.54696     & 17.678782   \\\\\n",
       "\t 2016         & CO           & Colorado     &  908800937   &  -453282840  &  455518097   &  3603000000  &  5382000000  &  8985000000  &  27210000000 &  9517000000  &  36727000000 & 5.07         & 24.46        & 24.46429     & 13.241455   \\\\\n",
       "\\end{tabular}\n"
      ],
      "text/markdown": [
       "\n",
       "period_covered | st_abbreviation | st_name | drug_spending | drug_rebates | spending_less_rebates | medicaid_state | medicaid_federal | medicaid_total | all_spending_state | all_spending_federal | all_spending_total | drugs_as_share_of_medicaid | medicaid_as_share_of_all_spending | medicaid_percent_total | medicaid_percent_state | \n",
       "|---|---|---|---|---|---|\n",
       "| 2016         | AK           | Alaska       |  108594349   |   -53673099  |   54921250   |   636190900  |  1066381900  |  1702572800  |   6754772879 |  3277197749  |  10031970628 | 3.23         | 16.97        | 16.97147     |  9.418391    | \n",
       "| 2016         | AL           | Alabama      |  667346361   |  -391980305  |  275366056   |  1961000000  |  4393000000  |  6354000000  |  16203000000 |  9635000000  |  25838000000 | 4.33         | 24.59        | 24.59169     | 12.102697    | \n",
       "| 2016         | AR           | Arkansas     |  339785707   |  -204345993  |  135439714   |  1478700000  |  5077000000  |  6555700000  |  16562824000 |  7397700000  |  23960524000 | 2.07         | 27.36        | 27.36042     |  8.927825    | \n",
       "| 2016         | AZ           | Arizona      | 1246118344   |  -604294056  |  641824288   |  2831000000  |  8690000000  | 11521000000  |  25515000000 | 14167000000  |  39682000000 | 5.57         | 29.03        | 29.03331     | 11.095434    | \n",
       "| 2016         | CA           | California   | 8004575487   | -4277024489  | 3727550998   | 28323000000  | 53337000000  | 81660000000  | 160209000000 | 90690000000  | 250899000000 | 4.56         | 32.55        | 32.54696     | 17.678782    | \n",
       "| 2016         | CO           | Colorado     |  908800937   |  -453282840  |  455518097   |  3603000000  |  5382000000  |  8985000000  |  27210000000 |  9517000000  |  36727000000 | 5.07         | 24.46        | 24.46429     | 13.241455    | \n",
       "\n",
       "\n"
      ],
      "text/plain": [
       "  period_covered st_abbreviation st_name    drug_spending drug_rebates\n",
       "1 2016           AK              Alaska      108594349      -53673099 \n",
       "2 2016           AL              Alabama     667346361     -391980305 \n",
       "3 2016           AR              Arkansas    339785707     -204345993 \n",
       "4 2016           AZ              Arizona    1246118344     -604294056 \n",
       "5 2016           CA              California 8004575487    -4277024489 \n",
       "6 2016           CO              Colorado    908800937     -453282840 \n",
       "  spending_less_rebates medicaid_state medicaid_federal medicaid_total\n",
       "1   54921250              636190900     1066381900       1702572800   \n",
       "2  275366056             1961000000     4393000000       6354000000   \n",
       "3  135439714             1478700000     5077000000       6555700000   \n",
       "4  641824288             2831000000     8690000000      11521000000   \n",
       "5 3727550998            28323000000    53337000000      81660000000   \n",
       "6  455518097             3603000000     5382000000       8985000000   \n",
       "  all_spending_state all_spending_federal all_spending_total\n",
       "1   6754772879        3277197749           10031970628      \n",
       "2  16203000000        9635000000           25838000000      \n",
       "3  16562824000        7397700000           23960524000      \n",
       "4  25515000000       14167000000           39682000000      \n",
       "5 160209000000       90690000000          250899000000      \n",
       "6  27210000000        9517000000           36727000000      \n",
       "  drugs_as_share_of_medicaid medicaid_as_share_of_all_spending\n",
       "1 3.23                       16.97                            \n",
       "2 4.33                       24.59                            \n",
       "3 2.07                       27.36                            \n",
       "4 5.57                       29.03                            \n",
       "5 4.56                       32.55                            \n",
       "6 5.07                       24.46                            \n",
       "  medicaid_percent_total medicaid_percent_state\n",
       "1 16.97147                9.418391             \n",
       "2 24.59169               12.102697             \n",
       "3 27.36042                8.927825             \n",
       "4 29.03331               11.095434             \n",
       "5 32.54696               17.678782             \n",
       "6 24.46429               13.241455             "
      ]
     },
     "metadata": {},
     "output_type": "display_data"
    }
   ],
   "source": [
    "head(df)"
   ]
  },
  {
   "cell_type": "code",
   "execution_count": 5,
   "metadata": {},
   "outputs": [],
   "source": [
    "options(repr.plot.width = 10, repr.plot.height = 6)"
   ]
  },
  {
   "cell_type": "markdown",
   "metadata": {},
   "source": [
    "Total spending by state over time"
   ]
  },
  {
   "cell_type": "code",
   "execution_count": 6,
   "metadata": {},
   "outputs": [],
   "source": [
    "temp = df %>%\n",
    "    group_by(period_covered,st_abbreviation) %>%\n",
    "    select(period_covered,st_abbreviation,medicaid_state) %>%\n",
    "    filter(period_covered == 2006)\n",
    "\n",
    "temp = temp[c(2:3)]\n",
    "colnames(temp) = c('st_abbreviation', 'baseline')\n",
    "\n",
    "df = full_join(df, temp, by = 'st_abbreviation')"
   ]
  },
  {
   "cell_type": "code",
   "execution_count": 7,
   "metadata": {},
   "outputs": [],
   "source": [
    "df$pct_change_2006 = ((df$medicaid_state - df$baseline)/df$baseline)*100\n",
    "\n",
    "avg_change = df %>% group_by(period_covered) %>% summarise(pct_change_2006 = mean(pct_change_2006, na.rm = TRUE))"
   ]
  },
  {
   "cell_type": "markdown",
   "metadata": {},
   "source": [
    "Export national average data to JSON"
   ]
  },
  {
   "cell_type": "code",
   "execution_count": 12,
   "metadata": {},
   "outputs": [],
   "source": [
    "medicaid_spending = df %>%\n",
    "    group_by(period_covered) %>%\n",
    "    summarise(total_medicaid = sum(medicaid_total),\n",
    "              total_spending = sum(all_spending_total),\n",
    "              mean_medicaid = mean(medicaid_total),\n",
    "              mean_total_spending = mean(all_spending_total)) %>%\n",
    "    mutate(total_medicaid_share = total_medicaid/total_spending*100,\n",
    "           mean_medicaid_share = mean_medicaid/mean_total_spending*100)"
   ]
  },
  {
   "cell_type": "code",
   "execution_count": 13,
   "metadata": {},
   "outputs": [
    {
     "data": {
      "text/html": [
       "<ol class=list-inline>\n",
       "\t<li>1317741801784.57</li>\n",
       "\t<li>1401696143193.89</li>\n",
       "\t<li>1453532902661.21</li>\n",
       "\t<li>1528925803235.38</li>\n",
       "\t<li>1617119951985.93</li>\n",
       "\t<li>1672046141954.5</li>\n",
       "\t<li>1635928359466.63</li>\n",
       "\t<li>1670760856726.77</li>\n",
       "\t<li>1733728568017.37</li>\n",
       "\t<li>1844638482553.01</li>\n",
       "\t<li>1885646852310.84</li>\n",
       "</ol>\n"
      ],
      "text/latex": [
       "\\begin{enumerate*}\n",
       "\\item 1317741801784.57\n",
       "\\item 1401696143193.89\n",
       "\\item 1453532902661.21\n",
       "\\item 1528925803235.38\n",
       "\\item 1617119951985.93\n",
       "\\item 1672046141954.5\n",
       "\\item 1635928359466.63\n",
       "\\item 1670760856726.77\n",
       "\\item 1733728568017.37\n",
       "\\item 1844638482553.01\n",
       "\\item 1885646852310.84\n",
       "\\end{enumerate*}\n"
      ],
      "text/markdown": [
       "1. 1317741801784.57\n",
       "2. 1401696143193.89\n",
       "3. 1453532902661.21\n",
       "4. 1528925803235.38\n",
       "5. 1617119951985.93\n",
       "6. 1672046141954.5\n",
       "7. 1635928359466.63\n",
       "8. 1670760856726.77\n",
       "9. 1733728568017.37\n",
       "10. 1844638482553.01\n",
       "11. 1885646852310.84\n",
       "\n",
       "\n"
      ],
      "text/plain": [
       " [1] 1.317742e+12 1.401696e+12 1.453533e+12 1.528926e+12 1.617120e+12\n",
       " [6] 1.672046e+12 1.635928e+12 1.670761e+12 1.733729e+12 1.844638e+12\n",
       "[11] 1.885647e+12"
      ]
     },
     "metadata": {},
     "output_type": "display_data"
    }
   ],
   "source": [
    "medicaid_spending$total_spending"
   ]
  },
  {
   "cell_type": "code",
   "execution_count": 11,
   "metadata": {},
   "outputs": [],
   "source": [
    "library(rjson)"
   ]
  },
  {
   "cell_type": "markdown",
   "metadata": {},
   "source": [
    "Let's graph medicaid as a share of all spending"
   ]
  },
  {
   "cell_type": "markdown",
   "metadata": {},
   "source": [
    "What about average cost of drug spending?"
   ]
  },
  {
   "cell_type": "code",
   "execution_count": 138,
   "metadata": {},
   "outputs": [
    {
     "ename": "ERROR",
     "evalue": "Error in grouped_df_impl(data, unname(vars), drop): Column `period_covered` is unknown\n",
     "execution_count": 138,
     "output_type": "error",
     "traceback": [
      "Error in grouped_df_impl(data, unname(vars), drop): Column `period_covered` is unknown\nTraceback:\n",
      "1. df %>% group_by(period_covered) %>% summarise(avg_drug_spending = mean(spending_less_rebates))",
      "2. withVisible(eval(quote(`_fseq`(`_lhs`)), env, env))",
      "3. eval(quote(`_fseq`(`_lhs`)), env, env)",
      "4. eval(quote(`_fseq`(`_lhs`)), env, env)",
      "5. `_fseq`(`_lhs`)",
      "6. freduce(value, `_function_list`)",
      "7. function_list[[i]](value)",
      "8. group_by(., period_covered)",
      "9. group_by.data.frame(., period_covered)",
      "10. grouped_df(groups$data, groups$group_names)",
      "11. grouped_df_impl(data, unname(vars), drop)"
     ]
    }
   ],
   "source": [
    "temp = df %>%\n",
    "    group_by(period_covered) %>%\n",
    "    summarise(avg_drug_spending = mean(spending_less_rebates))\n",
    "\n",
    "temp$avg_drug_spending/1000000"
   ]
  },
  {
   "cell_type": "markdown",
   "metadata": {},
   "source": [
    "# Lobbyists to legislators"
   ]
  },
  {
   "cell_type": "code",
   "execution_count": 1,
   "metadata": {},
   "outputs": [
    {
     "name": "stderr",
     "output_type": "stream",
     "text": [
      "\n",
      "Attaching package: ‘dplyr’\n",
      "\n",
      "The following objects are masked from ‘package:stats’:\n",
      "\n",
      "    filter, lag\n",
      "\n",
      "The following objects are masked from ‘package:base’:\n",
      "\n",
      "    intersect, setdiff, setequal, union\n",
      "\n"
     ]
    }
   ],
   "source": [
    "df = read.csv('lobbyists-to-legislators.csv')\n",
    "totals = read.csv('total-lobbyists.csv')\n",
    "\n",
    "library(dplyr)\n",
    "library(ggplot2)"
   ]
  },
  {
   "cell_type": "code",
   "execution_count": 16,
   "metadata": {},
   "outputs": [
    {
     "data": {
      "text/html": [
       "<table>\n",
       "<thead><tr><th scope=col>jurisdiction</th><th scope=col>year</th><th scope=col>annual_registrations</th><th scope=col>state_name</th><th scope=col>seats</th><th scope=col>registrations_to_legislators</th></tr></thead>\n",
       "<tbody>\n",
       "\t<tr><td>AL     </td><td>2016   </td><td>33     </td><td>ALABAMA</td><td>140    </td><td>0.24   </td></tr>\n",
       "\t<tr><td>AL     </td><td>2015   </td><td>49     </td><td>ALABAMA</td><td>140    </td><td>0.35   </td></tr>\n",
       "\t<tr><td>AL     </td><td>2014   </td><td>51     </td><td>ALABAMA</td><td>140    </td><td>0.36   </td></tr>\n",
       "\t<tr><td>AL     </td><td>2013   </td><td>38     </td><td>ALABAMA</td><td>140    </td><td>0.27   </td></tr>\n",
       "\t<tr><td>AL     </td><td>2012   </td><td>41     </td><td>ALABAMA</td><td>140    </td><td>0.29   </td></tr>\n",
       "\t<tr><td>AL     </td><td>2011   </td><td>39     </td><td>ALABAMA</td><td>140    </td><td>0.28   </td></tr>\n",
       "</tbody>\n",
       "</table>\n"
      ],
      "text/latex": [
       "\\begin{tabular}{r|llllll}\n",
       " jurisdiction & year & annual\\_registrations & state\\_name & seats & registrations\\_to\\_legislators\\\\\n",
       "\\hline\n",
       "\t AL      & 2016    & 33      & ALABAMA & 140     & 0.24   \\\\\n",
       "\t AL      & 2015    & 49      & ALABAMA & 140     & 0.35   \\\\\n",
       "\t AL      & 2014    & 51      & ALABAMA & 140     & 0.36   \\\\\n",
       "\t AL      & 2013    & 38      & ALABAMA & 140     & 0.27   \\\\\n",
       "\t AL      & 2012    & 41      & ALABAMA & 140     & 0.29   \\\\\n",
       "\t AL      & 2011    & 39      & ALABAMA & 140     & 0.28   \\\\\n",
       "\\end{tabular}\n"
      ],
      "text/markdown": [
       "\n",
       "jurisdiction | year | annual_registrations | state_name | seats | registrations_to_legislators | \n",
       "|---|---|---|---|---|---|\n",
       "| AL      | 2016    | 33      | ALABAMA | 140     | 0.24    | \n",
       "| AL      | 2015    | 49      | ALABAMA | 140     | 0.35    | \n",
       "| AL      | 2014    | 51      | ALABAMA | 140     | 0.36    | \n",
       "| AL      | 2013    | 38      | ALABAMA | 140     | 0.27    | \n",
       "| AL      | 2012    | 41      | ALABAMA | 140     | 0.29    | \n",
       "| AL      | 2011    | 39      | ALABAMA | 140     | 0.28    | \n",
       "\n",
       "\n"
      ],
      "text/plain": [
       "  jurisdiction year annual_registrations state_name seats\n",
       "1 AL           2016 33                   ALABAMA    140  \n",
       "2 AL           2015 49                   ALABAMA    140  \n",
       "3 AL           2014 51                   ALABAMA    140  \n",
       "4 AL           2013 38                   ALABAMA    140  \n",
       "5 AL           2012 41                   ALABAMA    140  \n",
       "6 AL           2011 39                   ALABAMA    140  \n",
       "  registrations_to_legislators\n",
       "1 0.24                        \n",
       "2 0.35                        \n",
       "3 0.36                        \n",
       "4 0.27                        \n",
       "5 0.29                        \n",
       "6 0.28                        "
      ]
     },
     "metadata": {},
     "output_type": "display_data"
    }
   ],
   "source": [
    "head(df)"
   ]
  },
  {
   "cell_type": "code",
   "execution_count": 121,
   "metadata": {},
   "outputs": [
    {
     "data": {},
     "metadata": {},
     "output_type": "display_data"
    },
    {
     "data": {
      "image/png": "[encoded data removed]",
      "text/plain": [
       "plot without title"
      ]
     },
     "metadata": {},
     "output_type": "display_data"
    }
   ],
   "source": [
    "ggplot(df, aes(year, registrations_to_legislators)) + geom_line() + facet_wrap(~ state_name)"
   ]
  },
  {
   "cell_type": "code",
   "execution_count": 2,
   "metadata": {},
   "outputs": [],
   "source": [
    "ratios = df %>%\n",
    "    filter(year == 2016) %>%\n",
    "    group_by(state_name, jurisdiction) %>%\n",
    "    summarise(ratio = annual_registrations/seats)"
   ]
  },
  {
   "cell_type": "code",
   "execution_count": 3,
   "metadata": {},
   "outputs": [
    {
     "data": {
      "text/html": [
       "<ol class=list-inline>\n",
       "\t<li>ALABAMA</li>\n",
       "\t<li>ALASKA</li>\n",
       "\t<li>ARIZONA</li>\n",
       "\t<li>ARKANSAS</li>\n",
       "\t<li>CALIFORNIA</li>\n",
       "\t<li>COLORADO</li>\n",
       "\t<li>CONNECTICUT</li>\n",
       "\t<li>DELAWARE</li>\n",
       "\t<li>FLORIDA</li>\n",
       "\t<li>GEORGIA</li>\n",
       "\t<li>HAWAII</li>\n",
       "\t<li>IDAHO</li>\n",
       "\t<li>ILLINOIS</li>\n",
       "\t<li>INDIANA</li>\n",
       "\t<li>IOWA</li>\n",
       "\t<li>KANSAS</li>\n",
       "\t<li>KENTUCKY</li>\n",
       "\t<li>LOUISIANA</li>\n",
       "\t<li>MAINE</li>\n",
       "\t<li>MARYLAND</li>\n",
       "\t<li>MASSACHUSETTS</li>\n",
       "\t<li>MICHIGAN</li>\n",
       "\t<li>MINNESOTA</li>\n",
       "\t<li>MISSISSIPPI</li>\n",
       "\t<li>MISSOURI</li>\n",
       "\t<li>MONTANA</li>\n",
       "\t<li>NEBRASKA</li>\n",
       "\t<li>NEW HAMPSHIRE</li>\n",
       "\t<li>NEW JERSEY</li>\n",
       "\t<li>NEW MEXICO</li>\n",
       "\t<li>NEW YORK</li>\n",
       "\t<li>NORTH CAROLINA</li>\n",
       "\t<li>NORTH DAKOTA</li>\n",
       "\t<li>OHIO</li>\n",
       "\t<li>OKLAHOMA</li>\n",
       "\t<li>OREGON</li>\n",
       "\t<li>PENNSYLVANIA</li>\n",
       "\t<li>RHODE ISLAND</li>\n",
       "\t<li>SOUTH CAROLINA</li>\n",
       "\t<li>SOUTH DAKOTA</li>\n",
       "\t<li>TENNESSEE</li>\n",
       "\t<li>TEXAS</li>\n",
       "\t<li>UTAH</li>\n",
       "\t<li>VERMONT</li>\n",
       "\t<li>VIRGINIA</li>\n",
       "\t<li>WASHINGTON</li>\n",
       "\t<li>WEST VIRGINIA</li>\n",
       "\t<li>WISCONSIN</li>\n",
       "\t<li>WYOMING</li>\n",
       "</ol>\n",
       "\n",
       "<details>\n",
       "\t<summary style=display:list-item;cursor:pointer>\n",
       "\t\t<strong>Levels</strong>:\n",
       "\t</summary>\n",
       "\t<ol class=list-inline>\n",
       "\t\t<li>'ALABAMA'</li>\n",
       "\t\t<li>'ALASKA'</li>\n",
       "\t\t<li>'ARIZONA'</li>\n",
       "\t\t<li>'ARKANSAS'</li>\n",
       "\t\t<li>'CALIFORNIA'</li>\n",
       "\t\t<li>'COLORADO'</li>\n",
       "\t\t<li>'CONNECTICUT'</li>\n",
       "\t\t<li>'DELAWARE'</li>\n",
       "\t\t<li>'FLORIDA'</li>\n",
       "\t\t<li>'GEORGIA'</li>\n",
       "\t\t<li>'HAWAII'</li>\n",
       "\t\t<li>'IDAHO'</li>\n",
       "\t\t<li>'ILLINOIS'</li>\n",
       "\t\t<li>'INDIANA'</li>\n",
       "\t\t<li>'IOWA'</li>\n",
       "\t\t<li>'KANSAS'</li>\n",
       "\t\t<li>'KENTUCKY'</li>\n",
       "\t\t<li>'LOUISIANA'</li>\n",
       "\t\t<li>'MAINE'</li>\n",
       "\t\t<li>'MARYLAND'</li>\n",
       "\t\t<li>'MASSACHUSETTS'</li>\n",
       "\t\t<li>'MICHIGAN'</li>\n",
       "\t\t<li>'MINNESOTA'</li>\n",
       "\t\t<li>'MISSISSIPPI'</li>\n",
       "\t\t<li>'MISSOURI'</li>\n",
       "\t\t<li>'MONTANA'</li>\n",
       "\t\t<li>'NEBRASKA'</li>\n",
       "\t\t<li>'NEVADA'</li>\n",
       "\t\t<li>'NEW HAMPSHIRE'</li>\n",
       "\t\t<li>'NEW JERSEY'</li>\n",
       "\t\t<li>'NEW MEXICO'</li>\n",
       "\t\t<li>'NEW YORK'</li>\n",
       "\t\t<li>'NORTH CAROLINA'</li>\n",
       "\t\t<li>'NORTH DAKOTA'</li>\n",
       "\t\t<li>'OHIO'</li>\n",
       "\t\t<li>'OKLAHOMA'</li>\n",
       "\t\t<li>'OREGON'</li>\n",
       "\t\t<li>'PENNSYLVANIA'</li>\n",
       "\t\t<li>'RHODE ISLAND'</li>\n",
       "\t\t<li>'SOUTH CAROLINA'</li>\n",
       "\t\t<li>'SOUTH DAKOTA'</li>\n",
       "\t\t<li>'TENNESSEE'</li>\n",
       "\t\t<li>'TEXAS'</li>\n",
       "\t\t<li>'UTAH'</li>\n",
       "\t\t<li>'VERMONT'</li>\n",
       "\t\t<li>'VIRGINIA'</li>\n",
       "\t\t<li>'WASHINGTON'</li>\n",
       "\t\t<li>'WEST VIRGINIA'</li>\n",
       "\t\t<li>'WISCONSIN'</li>\n",
       "\t\t<li>'WYOMING'</li>\n",
       "\t</ol>\n",
       "</details>"
      ],
      "text/latex": [
       "\\begin{enumerate*}\n",
       "\\item ALABAMA\n",
       "\\item ALASKA\n",
       "\\item ARIZONA\n",
       "\\item ARKANSAS\n",
       "\\item CALIFORNIA\n",
       "\\item COLORADO\n",
       "\\item CONNECTICUT\n",
       "\\item DELAWARE\n",
       "\\item FLORIDA\n",
       "\\item GEORGIA\n",
       "\\item HAWAII\n",
       "\\item IDAHO\n",
       "\\item ILLINOIS\n",
       "\\item INDIANA\n",
       "\\item IOWA\n",
       "\\item KANSAS\n",
       "\\item KENTUCKY\n",
       "\\item LOUISIANA\n",
       "\\item MAINE\n",
       "\\item MARYLAND\n",
       "\\item MASSACHUSETTS\n",
       "\\item MICHIGAN\n",
       "\\item MINNESOTA\n",
       "\\item MISSISSIPPI\n",
       "\\item MISSOURI\n",
       "\\item MONTANA\n",
       "\\item NEBRASKA\n",
       "\\item NEW HAMPSHIRE\n",
       "\\item NEW JERSEY\n",
       "\\item NEW MEXICO\n",
       "\\item NEW YORK\n",
       "\\item NORTH CAROLINA\n",
       "\\item NORTH DAKOTA\n",
       "\\item OHIO\n",
       "\\item OKLAHOMA\n",
       "\\item OREGON\n",
       "\\item PENNSYLVANIA\n",
       "\\item RHODE ISLAND\n",
       "\\item SOUTH CAROLINA\n",
       "\\item SOUTH DAKOTA\n",
       "\\item TENNESSEE\n",
       "\\item TEXAS\n",
       "\\item UTAH\n",
       "\\item VERMONT\n",
       "\\item VIRGINIA\n",
       "\\item WASHINGTON\n",
       "\\item WEST VIRGINIA\n",
       "\\item WISCONSIN\n",
       "\\item WYOMING\n",
       "\\end{enumerate*}\n",
       "\n",
       "\\emph{Levels}: \\begin{enumerate*}\n",
       "\\item 'ALABAMA'\n",
       "\\item 'ALASKA'\n",
       "\\item 'ARIZONA'\n",
       "\\item 'ARKANSAS'\n",
       "\\item 'CALIFORNIA'\n",
       "\\item 'COLORADO'\n",
       "\\item 'CONNECTICUT'\n",
       "\\item 'DELAWARE'\n",
       "\\item 'FLORIDA'\n",
       "\\item 'GEORGIA'\n",
       "\\item 'HAWAII'\n",
       "\\item 'IDAHO'\n",
       "\\item 'ILLINOIS'\n",
       "\\item 'INDIANA'\n",
       "\\item 'IOWA'\n",
       "\\item 'KANSAS'\n",
       "\\item 'KENTUCKY'\n",
       "\\item 'LOUISIANA'\n",
       "\\item 'MAINE'\n",
       "\\item 'MARYLAND'\n",
       "\\item 'MASSACHUSETTS'\n",
       "\\item 'MICHIGAN'\n",
       "\\item 'MINNESOTA'\n",
       "\\item 'MISSISSIPPI'\n",
       "\\item 'MISSOURI'\n",
       "\\item 'MONTANA'\n",
       "\\item 'NEBRASKA'\n",
       "\\item 'NEVADA'\n",
       "\\item 'NEW HAMPSHIRE'\n",
       "\\item 'NEW JERSEY'\n",
       "\\item 'NEW MEXICO'\n",
       "\\item 'NEW YORK'\n",
       "\\item 'NORTH CAROLINA'\n",
       "\\item 'NORTH DAKOTA'\n",
       "\\item 'OHIO'\n",
       "\\item 'OKLAHOMA'\n",
       "\\item 'OREGON'\n",
       "\\item 'PENNSYLVANIA'\n",
       "\\item 'RHODE ISLAND'\n",
       "\\item 'SOUTH CAROLINA'\n",
       "\\item 'SOUTH DAKOTA'\n",
       "\\item 'TENNESSEE'\n",
       "\\item 'TEXAS'\n",
       "\\item 'UTAH'\n",
       "\\item 'VERMONT'\n",
       "\\item 'VIRGINIA'\n",
       "\\item 'WASHINGTON'\n",
       "\\item 'WEST VIRGINIA'\n",
       "\\item 'WISCONSIN'\n",
       "\\item 'WYOMING'\n",
       "\\end{enumerate*}\n"
      ],
      "text/markdown": [
       "1. ALABAMA\n",
       "2. ALASKA\n",
       "3. ARIZONA\n",
       "4. ARKANSAS\n",
       "5. CALIFORNIA\n",
       "6. COLORADO\n",
       "7. CONNECTICUT\n",
       "8. DELAWARE\n",
       "9. FLORIDA\n",
       "10. GEORGIA\n",
       "11. HAWAII\n",
       "12. IDAHO\n",
       "13. ILLINOIS\n",
       "14. INDIANA\n",
       "15. IOWA\n",
       "16. KANSAS\n",
       "17. KENTUCKY\n",
       "18. LOUISIANA\n",
       "19. MAINE\n",
       "20. MARYLAND\n",
       "21. MASSACHUSETTS\n",
       "22. MICHIGAN\n",
       "23. MINNESOTA\n",
       "24. MISSISSIPPI\n",
       "25. MISSOURI\n",
       "26. MONTANA\n",
       "27. NEBRASKA\n",
       "28. NEW HAMPSHIRE\n",
       "29. NEW JERSEY\n",
       "30. NEW MEXICO\n",
       "31. NEW YORK\n",
       "32. NORTH CAROLINA\n",
       "33. NORTH DAKOTA\n",
       "34. OHIO\n",
       "35. OKLAHOMA\n",
       "36. OREGON\n",
       "37. PENNSYLVANIA\n",
       "38. RHODE ISLAND\n",
       "39. SOUTH CAROLINA\n",
       "40. SOUTH DAKOTA\n",
       "41. TENNESSEE\n",
       "42. TEXAS\n",
       "43. UTAH\n",
       "44. VERMONT\n",
       "45. VIRGINIA\n",
       "46. WASHINGTON\n",
       "47. WEST VIRGINIA\n",
       "48. WISCONSIN\n",
       "49. WYOMING\n",
       "\n",
       "\n",
       "\n",
       "**Levels**: 1. 'ALABAMA'\n",
       "2. 'ALASKA'\n",
       "3. 'ARIZONA'\n",
       "4. 'ARKANSAS'\n",
       "5. 'CALIFORNIA'\n",
       "6. 'COLORADO'\n",
       "7. 'CONNECTICUT'\n",
       "8. 'DELAWARE'\n",
       "9. 'FLORIDA'\n",
       "10. 'GEORGIA'\n",
       "11. 'HAWAII'\n",
       "12. 'IDAHO'\n",
       "13. 'ILLINOIS'\n",
       "14. 'INDIANA'\n",
       "15. 'IOWA'\n",
       "16. 'KANSAS'\n",
       "17. 'KENTUCKY'\n",
       "18. 'LOUISIANA'\n",
       "19. 'MAINE'\n",
       "20. 'MARYLAND'\n",
       "21. 'MASSACHUSETTS'\n",
       "22. 'MICHIGAN'\n",
       "23. 'MINNESOTA'\n",
       "24. 'MISSISSIPPI'\n",
       "25. 'MISSOURI'\n",
       "26. 'MONTANA'\n",
       "27. 'NEBRASKA'\n",
       "28. 'NEVADA'\n",
       "29. 'NEW HAMPSHIRE'\n",
       "30. 'NEW JERSEY'\n",
       "31. 'NEW MEXICO'\n",
       "32. 'NEW YORK'\n",
       "33. 'NORTH CAROLINA'\n",
       "34. 'NORTH DAKOTA'\n",
       "35. 'OHIO'\n",
       "36. 'OKLAHOMA'\n",
       "37. 'OREGON'\n",
       "38. 'PENNSYLVANIA'\n",
       "39. 'RHODE ISLAND'\n",
       "40. 'SOUTH CAROLINA'\n",
       "41. 'SOUTH DAKOTA'\n",
       "42. 'TENNESSEE'\n",
       "43. 'TEXAS'\n",
       "44. 'UTAH'\n",
       "45. 'VERMONT'\n",
       "46. 'VIRGINIA'\n",
       "47. 'WASHINGTON'\n",
       "48. 'WEST VIRGINIA'\n",
       "49. 'WISCONSIN'\n",
       "50. 'WYOMING'\n",
       "\n",
       "\n"
      ],
      "text/plain": [
       " [1] ALABAMA        ALASKA         ARIZONA        ARKANSAS       CALIFORNIA    \n",
       " [6] COLORADO       CONNECTICUT    DELAWARE       FLORIDA        GEORGIA       \n",
       "[11] HAWAII         IDAHO          ILLINOIS       INDIANA        IOWA          \n",
       "[16] KANSAS         KENTUCKY       LOUISIANA      MAINE          MARYLAND      \n",
       "[21] MASSACHUSETTS  MICHIGAN       MINNESOTA      MISSISSIPPI    MISSOURI      \n",
       "[26] MONTANA        NEBRASKA       NEW HAMPSHIRE  NEW JERSEY     NEW MEXICO    \n",
       "[31] NEW YORK       NORTH CAROLINA NORTH DAKOTA   OHIO           OKLAHOMA      \n",
       "[36] OREGON         PENNSYLVANIA   RHODE ISLAND   SOUTH CAROLINA SOUTH DAKOTA  \n",
       "[41] TENNESSEE      TEXAS          UTAH           VERMONT        VIRGINIA      \n",
       "[46] WASHINGTON     WEST VIRGINIA  WISCONSIN      WYOMING       \n",
       "50 Levels: ALABAMA ALASKA ARIZONA ARKANSAS CALIFORNIA COLORADO ... WYOMING"
      ]
     },
     "metadata": {},
     "output_type": "display_data"
    },
    {
     "data": {
      "text/html": [
       "<ol class=list-inline>\n",
       "\t<li>0.235714285714286</li>\n",
       "\t<li>0.166666666666667</li>\n",
       "\t<li>1.08888888888889</li>\n",
       "\t<li>0.281481481481481</li>\n",
       "\t<li>2.03333333333333</li>\n",
       "\t<li>0.86</li>\n",
       "\t<li>0.315508021390374</li>\n",
       "\t<li>0.516129032258065</li>\n",
       "\t<li>0.9125</li>\n",
       "\t<li>0.453389830508475</li>\n",
       "\t<li>0.197368421052632</li>\n",
       "\t<li>0.304761904761905</li>\n",
       "\t<li>0.903954802259887</li>\n",
       "\t<li>0.32</li>\n",
       "\t<li>0.46</li>\n",
       "\t<li>0.212121212121212</li>\n",
       "\t<li>0.507246376811594</li>\n",
       "\t<li>0.388888888888889</li>\n",
       "\t<li>0.10752688172043</li>\n",
       "\t<li>0.409574468085106</li>\n",
       "\t<li>1.04</li>\n",
       "\t<li>2.7972972972973</li>\n",
       "\t<li>0.303482587064677</li>\n",
       "\t<li>0.270114942528736</li>\n",
       "\t<li>0.50761421319797</li>\n",
       "\t<li>0.04</li>\n",
       "\t<li>0.346938775510204</li>\n",
       "\t<li>0.0825471698113208</li>\n",
       "\t<li>2.9</li>\n",
       "\t<li>0.285714285714286</li>\n",
       "\t<li>1.6150234741784</li>\n",
       "\t<li>0.623529411764706</li>\n",
       "\t<li>0.0851063829787234</li>\n",
       "\t<li>0.636363636363636</li>\n",
       "\t<li>0.23489932885906</li>\n",
       "\t<li>0.733333333333333</li>\n",
       "\t<li>0.0790513833992095</li>\n",
       "\t<li>0.31858407079646</li>\n",
       "\t<li>0.223529411764706</li>\n",
       "\t<li>0.133333333333333</li>\n",
       "\t<li>0.613636363636364</li>\n",
       "\t<li>0.662983425414365</li>\n",
       "\t<li>0.5</li>\n",
       "\t<li>0.372222222222222</li>\n",
       "\t<li>0.342857142857143</li>\n",
       "\t<li>0.326530612244898</li>\n",
       "\t<li>0.26865671641791</li>\n",
       "\t<li>0.28030303030303</li>\n",
       "\t<li>0.1</li>\n",
       "</ol>\n"
      ],
      "text/latex": [
       "\\begin{enumerate*}\n",
       "\\item 0.235714285714286\n",
       "\\item 0.166666666666667\n",
       "\\item 1.08888888888889\n",
       "\\item 0.281481481481481\n",
       "\\item 2.03333333333333\n",
       "\\item 0.86\n",
       "\\item 0.315508021390374\n",
       "\\item 0.516129032258065\n",
       "\\item 0.9125\n",
       "\\item 0.453389830508475\n",
       "\\item 0.197368421052632\n",
       "\\item 0.304761904761905\n",
       "\\item 0.903954802259887\n",
       "\\item 0.32\n",
       "\\item 0.46\n",
       "\\item 0.212121212121212\n",
       "\\item 0.507246376811594\n",
       "\\item 0.388888888888889\n",
       "\\item 0.10752688172043\n",
       "\\item 0.409574468085106\n",
       "\\item 1.04\n",
       "\\item 2.7972972972973\n",
       "\\item 0.303482587064677\n",
       "\\item 0.270114942528736\n",
       "\\item 0.50761421319797\n",
       "\\item 0.04\n",
       "\\item 0.346938775510204\n",
       "\\item 0.0825471698113208\n",
       "\\item 2.9\n",
       "\\item 0.285714285714286\n",
       "\\item 1.6150234741784\n",
       "\\item 0.623529411764706\n",
       "\\item 0.0851063829787234\n",
       "\\item 0.636363636363636\n",
       "\\item 0.23489932885906\n",
       "\\item 0.733333333333333\n",
       "\\item 0.0790513833992095\n",
       "\\item 0.31858407079646\n",
       "\\item 0.223529411764706\n",
       "\\item 0.133333333333333\n",
       "\\item 0.613636363636364\n",
       "\\item 0.662983425414365\n",
       "\\item 0.5\n",
       "\\item 0.372222222222222\n",
       "\\item 0.342857142857143\n",
       "\\item 0.326530612244898\n",
       "\\item 0.26865671641791\n",
       "\\item 0.28030303030303\n",
       "\\item 0.1\n",
       "\\end{enumerate*}\n"
      ],
      "text/markdown": [
       "1. 0.235714285714286\n",
       "2. 0.166666666666667\n",
       "3. 1.08888888888889\n",
       "4. 0.281481481481481\n",
       "5. 2.03333333333333\n",
       "6. 0.86\n",
       "7. 0.315508021390374\n",
       "8. 0.516129032258065\n",
       "9. 0.9125\n",
       "10. 0.453389830508475\n",
       "11. 0.197368421052632\n",
       "12. 0.304761904761905\n",
       "13. 0.903954802259887\n",
       "14. 0.32\n",
       "15. 0.46\n",
       "16. 0.212121212121212\n",
       "17. 0.507246376811594\n",
       "18. 0.388888888888889\n",
       "19. 0.10752688172043\n",
       "20. 0.409574468085106\n",
       "21. 1.04\n",
       "22. 2.7972972972973\n",
       "23. 0.303482587064677\n",
       "24. 0.270114942528736\n",
       "25. 0.50761421319797\n",
       "26. 0.04\n",
       "27. 0.346938775510204\n",
       "28. 0.0825471698113208\n",
       "29. 2.9\n",
       "30. 0.285714285714286\n",
       "31. 1.6150234741784\n",
       "32. 0.623529411764706\n",
       "33. 0.0851063829787234\n",
       "34. 0.636363636363636\n",
       "35. 0.23489932885906\n",
       "36. 0.733333333333333\n",
       "37. 0.0790513833992095\n",
       "38. 0.31858407079646\n",
       "39. 0.223529411764706\n",
       "40. 0.133333333333333\n",
       "41. 0.613636363636364\n",
       "42. 0.662983425414365\n",
       "43. 0.5\n",
       "44. 0.372222222222222\n",
       "45. 0.342857142857143\n",
       "46. 0.326530612244898\n",
       "47. 0.26865671641791\n",
       "48. 0.28030303030303\n",
       "49. 0.1\n",
       "\n",
       "\n"
      ],
      "text/plain": [
       " [1] 0.23571429 0.16666667 1.08888889 0.28148148 2.03333333 0.86000000\n",
       " [7] 0.31550802 0.51612903 0.91250000 0.45338983 0.19736842 0.30476190\n",
       "[13] 0.90395480 0.32000000 0.46000000 0.21212121 0.50724638 0.38888889\n",
       "[19] 0.10752688 0.40957447 1.04000000 2.79729730 0.30348259 0.27011494\n",
       "[25] 0.50761421 0.04000000 0.34693878 0.08254717 2.90000000 0.28571429\n",
       "[31] 1.61502347 0.62352941 0.08510638 0.63636364 0.23489933 0.73333333\n",
       "[37] 0.07905138 0.31858407 0.22352941 0.13333333 0.61363636 0.66298343\n",
       "[43] 0.50000000 0.37222222 0.34285714 0.32653061 0.26865672 0.28030303\n",
       "[49] 0.10000000"
      ]
     },
     "metadata": {},
     "output_type": "display_data"
    }
   ],
   "source": [
    "ratios$state_name\n",
    "ratios$ratio"
   ]
  },
  {
   "cell_type": "code",
   "execution_count": 6,
   "metadata": {},
   "outputs": [
    {
     "data": {},
     "metadata": {},
     "output_type": "display_data"
    },
    {
     "data": {
      "image/png": "[encoded data removed]",
      "text/plain": [
       "plot without title"
      ]
     },
     "metadata": {},
     "output_type": "display_data"
    }
   ],
   "source": [
    "ggplot(ratios, aes(reorder(state_name,ratio), ratio)) +\n",
    "    geom_col(width = 0.8, fill = '#17807E', position = position_dodge(width = 20)) +\n",
    "    coord_flip() +\n",
    "    ggtitle('Registered pharma lobbyists per state legislators in 2016') +\n",
    " #   geom_text(aes(label = ratio, hjust = -.1), size = 2.5) +\n",
    "    geom_abline(intercept = 100, slope = 0, size = .2) +\n",
    "    geom_abline(intercept = 200, slope = 0, size = .2) +\n",
    "    geom_abline(intercept = 300, slope = 0, size = .2) +\n",
    "\n",
    "    theme(panel.grid.major = element_blank(),\n",
    "         panel.grid.minor = element_blank(),\n",
    "         panel.background = element_blank(),\n",
    "         legend.position = 'none',\n",
    "         axis.title.y = element_blank(),\n",
    "         axis.ticks.y = element_blank(),\n",
    "         axis.text.y = element_text(size = 7, margin = margin(r = -18)),\n",
    "         axis.ticks.x = element_blank(),\n",
    "         axis.text.x = element_blank(),\n",
    "         axis.title.x = element_blank(),\n",
    "         plot.title = element_text(hjust = .15, margin = margin(b = 20)))"
   ]
  },
  {
   "cell_type": "code",
   "execution_count": 184,
   "metadata": {},
   "outputs": [],
   "source": [
    "ratios = ratios %>% left_join(., totals, by = 'jurisdiction')"
   ]
  },
  {
   "cell_type": "code",
   "execution_count": 185,
   "metadata": {},
   "outputs": [],
   "source": [
    "ratios$diff = ratios$count - ratios$ratio"
   ]
  },
  {
   "cell_type": "code",
   "execution_count": 187,
   "metadata": {},
   "outputs": [],
   "source": [
    "ratios = ratios %>% select(c(1,3,5))"
   ]
  },
  {
   "cell_type": "code",
   "execution_count": 188,
   "metadata": {},
   "outputs": [
    {
     "data": {
      "text/html": [
       "<table>\n",
       "<thead><tr><th scope=col>state_name</th><th scope=col>ratio</th><th scope=col>diff</th></tr></thead>\n",
       "<tbody>\n",
       "\t<tr><td>ALABAMA   </td><td> 24       </td><td> 1906     </td></tr>\n",
       "\t<tr><td>ALASKA    </td><td> 17       </td><td>  603     </td></tr>\n",
       "\t<tr><td>ARIZONA   </td><td>109       </td><td>14509     </td></tr>\n",
       "\t<tr><td>ARKANSAS  </td><td> 28       </td><td> 3407     </td></tr>\n",
       "\t<tr><td>CALIFORNIA</td><td>203       </td><td>20343     </td></tr>\n",
       "\t<tr><td>COLORADO  </td><td> 86       </td><td> 3750     </td></tr>\n",
       "</tbody>\n",
       "</table>\n"
      ],
      "text/latex": [
       "\\begin{tabular}{r|lll}\n",
       " state\\_name & ratio & diff\\\\\n",
       "\\hline\n",
       "\t ALABAMA    &  24        &  1906     \\\\\n",
       "\t ALASKA     &  17        &   603     \\\\\n",
       "\t ARIZONA    & 109        & 14509     \\\\\n",
       "\t ARKANSAS   &  28        &  3407     \\\\\n",
       "\t CALIFORNIA & 203        & 20343     \\\\\n",
       "\t COLORADO   &  86        &  3750     \\\\\n",
       "\\end{tabular}\n"
      ],
      "text/markdown": [
       "\n",
       "state_name | ratio | diff | \n",
       "|---|---|---|---|---|---|\n",
       "| ALABAMA    |  24        |  1906      | \n",
       "| ALASKA     |  17        |   603      | \n",
       "| ARIZONA    | 109        | 14509      | \n",
       "| ARKANSAS   |  28        |  3407      | \n",
       "| CALIFORNIA | 203        | 20343      | \n",
       "| COLORADO   |  86        |  3750      | \n",
       "\n",
       "\n"
      ],
      "text/plain": [
       "  state_name ratio diff \n",
       "1 ALABAMA     24    1906\n",
       "2 ALASKA      17     603\n",
       "3 ARIZONA    109   14509\n",
       "4 ARKANSAS    28    3407\n",
       "5 CALIFORNIA 203   20343\n",
       "6 COLORADO    86    3750"
      ]
     },
     "metadata": {},
     "output_type": "display_data"
    }
   ],
   "source": [
    "head(ratios)"
   ]
  },
  {
   "cell_type": "code",
   "execution_count": 193,
   "metadata": {},
   "outputs": [],
   "source": [
    "temp = gather(ratios, type, ratio, 2:3)"
   ]
  },
  {
   "cell_type": "code",
   "execution_count": 195,
   "metadata": {},
   "outputs": [
    {
     "data": {
      "text/html": [
       "<table>\n",
       "<thead><tr><th scope=col>state_name</th><th scope=col>type</th><th scope=col>ratio</th></tr></thead>\n",
       "<tbody>\n",
       "\t<tr><td>ALABAMA   </td><td>ratio     </td><td> 24       </td></tr>\n",
       "\t<tr><td>ALASKA    </td><td>ratio     </td><td> 17       </td></tr>\n",
       "\t<tr><td>ARIZONA   </td><td>ratio     </td><td>109       </td></tr>\n",
       "\t<tr><td>ARKANSAS  </td><td>ratio     </td><td> 28       </td></tr>\n",
       "\t<tr><td>CALIFORNIA</td><td>ratio     </td><td>203       </td></tr>\n",
       "\t<tr><td>COLORADO  </td><td>ratio     </td><td> 86       </td></tr>\n",
       "</tbody>\n",
       "</table>\n"
      ],
      "text/latex": [
       "\\begin{tabular}{r|lll}\n",
       " state\\_name & type & ratio\\\\\n",
       "\\hline\n",
       "\t ALABAMA    & ratio      &  24       \\\\\n",
       "\t ALASKA     & ratio      &  17       \\\\\n",
       "\t ARIZONA    & ratio      & 109       \\\\\n",
       "\t ARKANSAS   & ratio      &  28       \\\\\n",
       "\t CALIFORNIA & ratio      & 203       \\\\\n",
       "\t COLORADO   & ratio      &  86       \\\\\n",
       "\\end{tabular}\n"
      ],
      "text/markdown": [
       "\n",
       "state_name | type | ratio | \n",
       "|---|---|---|---|---|---|\n",
       "| ALABAMA    | ratio      |  24        | \n",
       "| ALASKA     | ratio      |  17        | \n",
       "| ARIZONA    | ratio      | 109        | \n",
       "| ARKANSAS   | ratio      |  28        | \n",
       "| CALIFORNIA | ratio      | 203        | \n",
       "| COLORADO   | ratio      |  86        | \n",
       "\n",
       "\n"
      ],
      "text/plain": [
       "  state_name type  ratio\n",
       "1 ALABAMA    ratio  24  \n",
       "2 ALASKA     ratio  17  \n",
       "3 ARIZONA    ratio 109  \n",
       "4 ARKANSAS   ratio  28  \n",
       "5 CALIFORNIA ratio 203  \n",
       "6 COLORADO   ratio  86  "
      ]
     },
     "metadata": {},
     "output_type": "display_data"
    }
   ],
   "source": [
    "head(temp)"
   ]
  },
  {
   "cell_type": "code",
   "execution_count": 196,
   "metadata": {},
   "outputs": [
    {
     "data": {},
     "metadata": {},
     "output_type": "display_data"
    },
    {
     "data": {
      "image/png": "[encoded data removed]",
      "text/plain": [
       "plot without title"
      ]
     },
     "metadata": {},
     "output_type": "display_data"
    }
   ],
   "source": [
    "ggplot(temp, aes(reorder(state_name,ratio), ratio, fill = type)) +\n",
    "    geom_col(width = 0.8, fill = '#17807E', position = position_dodge(width = 20)) +\n",
    "    coord_flip() +\n",
    "    ggtitle('Registered pharma lobbyists per 100 state legislators in 2016') +\n",
    "    geom_text(aes(label = ratio, hjust = -.1), size = 2.5) +\n",
    "    geom_abline(intercept = 100, slope = 0, size = .2) +\n",
    "    theme(panel.grid.major = element_blank(),\n",
    "         panel.grid.minor = element_blank(),\n",
    "         panel.background = element_blank(),\n",
    "         legend.position = 'none',\n",
    "         axis.title.y = element_blank(),\n",
    "         axis.ticks.y = element_blank(),\n",
    "         axis.text.y = element_text(size = 7, margin = margin(r = -18)),\n",
    "         axis.ticks.x = element_blank(),\n",
    "         axis.text.x = element_blank(),\n",
    "         axis.title.x = element_blank(),\n",
    "         plot.title = element_text(hjust = .15, margin = margin(b = 20)))"
   ]
  },
  {
   "cell_type": "code",
   "execution_count": 12,
   "metadata": {},
   "outputs": [],
   "source": [
    "ratios = df %>%\n",
    "    filter(year == 2016) %>%\n",
    "    group_by(state_name) %>%\n",
    "    select(c(state_name, annual_registrations, seats))"
   ]
  },
  {
   "cell_type": "code",
   "execution_count": 14,
   "metadata": {},
   "outputs": [],
   "source": [
    "ratios$ratio = ratios$annual_registrations/ratios$seats\n",
    "ratios = ratios %>% arrange(-ratio)"
   ]
  },
  {
   "cell_type": "code",
   "execution_count": 19,
   "metadata": {},
   "outputs": [
    {
     "data": {
      "text/html": [
       "<ol class=list-inline>\n",
       "\t<li>120</li>\n",
       "\t<li>148</li>\n",
       "\t<li>120</li>\n",
       "\t<li>213</li>\n",
       "\t<li>90</li>\n",
       "\t<li>200</li>\n",
       "\t<li>160</li>\n",
       "\t<li>177</li>\n",
       "\t<li>100</li>\n",
       "\t<li>90</li>\n",
       "\t<li>181</li>\n",
       "\t<li>132</li>\n",
       "\t<li>170</li>\n",
       "\t<li>132</li>\n",
       "\t<li>62</li>\n",
       "\t<li>197</li>\n",
       "\t<li>138</li>\n",
       "\t<li>104</li>\n",
       "\t<li>150</li>\n",
       "\t<li>236</li>\n",
       "\t<li>188</li>\n",
       "\t<li>144</li>\n",
       "\t<li>180</li>\n",
       "\t<li>49</li>\n",
       "\t<li>140</li>\n",
       "\t<li>147</li>\n",
       "\t<li>150</li>\n",
       "\t<li>113</li>\n",
       "\t<li>187</li>\n",
       "\t<li>105</li>\n",
       "\t<li>201</li>\n",
       "\t<li>112</li>\n",
       "\t<li>135</li>\n",
       "\t<li>132</li>\n",
       "\t<li>174</li>\n",
       "\t<li>134</li>\n",
       "\t<li>140</li>\n",
       "\t<li>149</li>\n",
       "\t<li>170</li>\n",
       "\t<li>165</li>\n",
       "\t<li>76</li>\n",
       "\t<li>60</li>\n",
       "\t<li>105</li>\n",
       "\t<li>186</li>\n",
       "\t<li>90</li>\n",
       "\t<li>141</li>\n",
       "\t<li>424</li>\n",
       "\t<li>253</li>\n",
       "\t<li>150</li>\n",
       "</ol>\n"
      ],
      "text/latex": [
       "\\begin{enumerate*}\n",
       "\\item 120\n",
       "\\item 148\n",
       "\\item 120\n",
       "\\item 213\n",
       "\\item 90\n",
       "\\item 200\n",
       "\\item 160\n",
       "\\item 177\n",
       "\\item 100\n",
       "\\item 90\n",
       "\\item 181\n",
       "\\item 132\n",
       "\\item 170\n",
       "\\item 132\n",
       "\\item 62\n",
       "\\item 197\n",
       "\\item 138\n",
       "\\item 104\n",
       "\\item 150\n",
       "\\item 236\n",
       "\\item 188\n",
       "\\item 144\n",
       "\\item 180\n",
       "\\item 49\n",
       "\\item 140\n",
       "\\item 147\n",
       "\\item 150\n",
       "\\item 113\n",
       "\\item 187\n",
       "\\item 105\n",
       "\\item 201\n",
       "\\item 112\n",
       "\\item 135\n",
       "\\item 132\n",
       "\\item 174\n",
       "\\item 134\n",
       "\\item 140\n",
       "\\item 149\n",
       "\\item 170\n",
       "\\item 165\n",
       "\\item 76\n",
       "\\item 60\n",
       "\\item 105\n",
       "\\item 186\n",
       "\\item 90\n",
       "\\item 141\n",
       "\\item 424\n",
       "\\item 253\n",
       "\\item 150\n",
       "\\end{enumerate*}\n"
      ],
      "text/markdown": [
       "1. 120\n",
       "2. 148\n",
       "3. 120\n",
       "4. 213\n",
       "5. 90\n",
       "6. 200\n",
       "7. 160\n",
       "8. 177\n",
       "9. 100\n",
       "10. 90\n",
       "11. 181\n",
       "12. 132\n",
       "13. 170\n",
       "14. 132\n",
       "15. 62\n",
       "16. 197\n",
       "17. 138\n",
       "18. 104\n",
       "19. 150\n",
       "20. 236\n",
       "21. 188\n",
       "22. 144\n",
       "23. 180\n",
       "24. 49\n",
       "25. 140\n",
       "26. 147\n",
       "27. 150\n",
       "28. 113\n",
       "29. 187\n",
       "30. 105\n",
       "31. 201\n",
       "32. 112\n",
       "33. 135\n",
       "34. 132\n",
       "35. 174\n",
       "36. 134\n",
       "37. 140\n",
       "38. 149\n",
       "39. 170\n",
       "40. 165\n",
       "41. 76\n",
       "42. 60\n",
       "43. 105\n",
       "44. 186\n",
       "45. 90\n",
       "46. 141\n",
       "47. 424\n",
       "48. 253\n",
       "49. 150\n",
       "\n",
       "\n"
      ],
      "text/plain": [
       " [1] 120 148 120 213  90 200 160 177 100  90 181 132 170 132  62 197 138 104 150\n",
       "[20] 236 188 144 180  49 140 147 150 113 187 105 201 112 135 132 174 134 140 149\n",
       "[39] 170 165  76  60 105 186  90 141 424 253 150"
      ]
     },
     "metadata": {},
     "output_type": "display_data"
    }
   ],
   "source": [
    "ratios$seats"
   ]
  }
 ],
 "metadata": {
  "kernelspec": {
   "display_name": "R",
   "language": "R",
   "name": "ir"
  },
  "language_info": {
   "codemirror_mode": "r",
   "file_extension": ".r",
   "mimetype": "text/x-r-source",
   "name": "R",
   "pygments_lexer": "r",
   "version": "3.4.4"
  }
 },
 "nbformat": 4,
 "nbformat_minor": 2
}
