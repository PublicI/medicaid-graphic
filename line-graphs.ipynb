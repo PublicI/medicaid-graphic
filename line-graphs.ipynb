{
 "cells": [
  {
   "cell_type": "markdown",
   "metadata": {},
   "source": [
    "# Medicaid, drug spending"
   ]
  },
  {
   "cell_type": "code",
   "execution_count": 1,
   "metadata": {},
   "outputs": [
    {
     "name": "stderr",
     "output_type": "stream",
     "text": [
      "\n",
      "Attaching package: ‘dplyr’\n",
      "\n",
      "The following objects are masked from ‘package:stats’:\n",
      "\n",
      "    filter, lag\n",
      "\n",
      "The following objects are masked from ‘package:base’:\n",
      "\n",
      "    intersect, setdiff, setequal, union\n",
      "\n"
     ]
    }
   ],
   "source": [
    "df = read.csv('medicaid-costs-master.csv')\n",
    "\n",
    "library(dplyr)\n",
    "library(ggplot2)\n",
    "library(repr)"
   ]
  },
  {
   "cell_type": "code",
   "execution_count": 18,
   "metadata": {},
   "outputs": [],
   "source": [
    "df$drug_spending = df$drug_spending %>% sub('\\\\$','',.) %>% gsub('\\\\,','',.) %>% as.numeric(.)\n",
    "df$drug_rebates = df$drug_rebates %>% sub('\\\\$','',.) %>% gsub('\\\\,','',.) %>% as.numeric(.)\n",
    "df$spending_less_rebates = df$spending_less_rebates %>% sub('\\\\$','',.) %>% gsub('\\\\,','',.) %>% as.numeric(.)\n",
    "df$medicaid_state = df$medicaid_state %>% sub('\\\\$','',.) %>% gsub('\\\\,','',.) %>% as.numeric(.)\n",
    "df$medicaid_federal = df$medicaid_federal %>% sub('\\\\$','',.) %>% gsub('\\\\,','',.) %>% as.numeric(.)\n",
    "df$medicaid_total = df$medicaid_total %>% sub('\\\\$','',.) %>% gsub('\\\\,','',.) %>% as.numeric(.)\n",
    "df$all_spending_state = df$all_spending_state %>% sub('\\\\$','',.) %>% gsub('\\\\,','',.) %>% as.numeric(.)\n",
    "df$all_spending_federal = df$all_spending_federal %>% sub('\\\\$','',.) %>% gsub('\\\\,','',.) %>% as.numeric(.)\n",
    "df$all_spending_total = df$all_spending_total %>% sub('\\\\$','',.) %>% gsub('\\\\,','',.) %>% as.numeric(.)\n",
    "df$medicaid_as_share_of_all_spending = df$medicaid_as_share_of_all_spending %>% sub('\\\\%','',.) %>% as.character(.) %>% as.numeric(.)"
   ]
  },
  {
   "cell_type": "code",
   "execution_count": 19,
   "metadata": {},
   "outputs": [
    {
     "data": {
      "text/html": [
       "<table>\n",
       "<thead><tr><th scope=col>period_covered</th><th scope=col>st_abbreviation</th><th scope=col>st_name</th><th scope=col>drug_spending</th><th scope=col>drug_rebates</th><th scope=col>spending_less_rebates</th><th scope=col>medicaid_state</th><th scope=col>medicaid_federal</th><th scope=col>medicaid_total</th><th scope=col>all_spending_state</th><th scope=col>all_spending_federal</th><th scope=col>all_spending_total</th><th scope=col>medicaid_as_share_of_all_spending</th></tr></thead>\n",
       "<tbody>\n",
       "\t<tr><td>2008        </td><td>AK          </td><td>Alaska      </td><td>  82927006  </td><td>  -21507868 </td><td>  61419138  </td><td>  359000000 </td><td>  612000000 </td><td>  971000000 </td><td>  9342000000</td><td> 2314000000 </td><td> 11656000000</td><td> 8.33       </td></tr>\n",
       "\t<tr><td>2008        </td><td>AL          </td><td>Alabama     </td><td> 441171250  </td><td> -139935487 </td><td> 301235764  </td><td> 1501000000 </td><td> 2899000000 </td><td> 4400000000 </td><td> 13549000000</td><td> 6291000000 </td><td> 19840000000</td><td>22.18       </td></tr>\n",
       "\t<tr><td>2008        </td><td>AR          </td><td>Arkansas    </td><td> 326156278  </td><td> -105904688 </td><td> 220251590  </td><td>  937000000 </td><td> 2494000000 </td><td> 3431000000 </td><td> 12093000000</td><td> 4806000000 </td><td> 16899000000</td><td>20.30       </td></tr>\n",
       "\t<tr><td>2008        </td><td>CA          </td><td>California  </td><td>3104054352  </td><td>-1223480059 </td><td>1880574293  </td><td>13434000000 </td><td>24857000000 </td><td>38291000000 </td><td>138065000000</td><td>56211000000 </td><td>194276000000</td><td>19.71       </td></tr>\n",
       "\t<tr><td>2008        </td><td>CO          </td><td>Colorado    </td><td> 231323507  </td><td>  -73561741 </td><td> 157761766  </td><td> 1905204000 </td><td> 1720625000 </td><td> 3625829000 </td><td> 20389260000</td><td> 4738747000 </td><td> 25128007000</td><td>14.43       </td></tr>\n",
       "\t<tr><td>2008        </td><td>CT          </td><td>Connecticut </td><td> 355565440  </td><td>  -93077341 </td><td> 262488099  </td><td> 4265000000 </td><td>          0 </td><td> 4265000000 </td><td> 22153870636</td><td> 2116958556 </td><td> 24270829192</td><td>17.57       </td></tr>\n",
       "</tbody>\n",
       "</table>\n"
      ],
      "text/latex": [
       "\\begin{tabular}{r|lllllllllllll}\n",
       " period\\_covered & st\\_abbreviation & st\\_name & drug\\_spending & drug\\_rebates & spending\\_less\\_rebates & medicaid\\_state & medicaid\\_federal & medicaid\\_total & all\\_spending\\_state & all\\_spending\\_federal & all\\_spending\\_total & medicaid\\_as\\_share\\_of\\_all\\_spending\\\\\n",
       "\\hline\n",
       "\t 2008         & AK           & Alaska       &   82927006   &   -21507868  &   61419138   &   359000000  &   612000000  &   971000000  &   9342000000 &  2314000000  &  11656000000 &  8.33       \\\\\n",
       "\t 2008         & AL           & Alabama      &  441171250   &  -139935487  &  301235764   &  1501000000  &  2899000000  &  4400000000  &  13549000000 &  6291000000  &  19840000000 & 22.18       \\\\\n",
       "\t 2008         & AR           & Arkansas     &  326156278   &  -105904688  &  220251590   &   937000000  &  2494000000  &  3431000000  &  12093000000 &  4806000000  &  16899000000 & 20.30       \\\\\n",
       "\t 2008         & CA           & California   & 3104054352   & -1223480059  & 1880574293   & 13434000000  & 24857000000  & 38291000000  & 138065000000 & 56211000000  & 194276000000 & 19.71       \\\\\n",
       "\t 2008         & CO           & Colorado     &  231323507   &   -73561741  &  157761766   &  1905204000  &  1720625000  &  3625829000  &  20389260000 &  4738747000  &  25128007000 & 14.43       \\\\\n",
       "\t 2008         & CT           & Connecticut  &  355565440   &   -93077341  &  262488099   &  4265000000  &           0  &  4265000000  &  22153870636 &  2116958556  &  24270829192 & 17.57       \\\\\n",
       "\\end{tabular}\n"
      ],
      "text/markdown": [
       "\n",
       "period_covered | st_abbreviation | st_name | drug_spending | drug_rebates | spending_less_rebates | medicaid_state | medicaid_federal | medicaid_total | all_spending_state | all_spending_federal | all_spending_total | medicaid_as_share_of_all_spending | \n",
       "|---|---|---|---|---|---|\n",
       "| 2008         | AK           | Alaska       |   82927006   |   -21507868  |   61419138   |   359000000  |   612000000  |   971000000  |   9342000000 |  2314000000  |  11656000000 |  8.33        | \n",
       "| 2008         | AL           | Alabama      |  441171250   |  -139935487  |  301235764   |  1501000000  |  2899000000  |  4400000000  |  13549000000 |  6291000000  |  19840000000 | 22.18        | \n",
       "| 2008         | AR           | Arkansas     |  326156278   |  -105904688  |  220251590   |   937000000  |  2494000000  |  3431000000  |  12093000000 |  4806000000  |  16899000000 | 20.30        | \n",
       "| 2008         | CA           | California   | 3104054352   | -1223480059  | 1880574293   | 13434000000  | 24857000000  | 38291000000  | 138065000000 | 56211000000  | 194276000000 | 19.71        | \n",
       "| 2008         | CO           | Colorado     |  231323507   |   -73561741  |  157761766   |  1905204000  |  1720625000  |  3625829000  |  20389260000 |  4738747000  |  25128007000 | 14.43        | \n",
       "| 2008         | CT           | Connecticut  |  355565440   |   -93077341  |  262488099   |  4265000000  |           0  |  4265000000  |  22153870636 |  2116958556  |  24270829192 | 17.57        | \n",
       "\n",
       "\n"
      ],
      "text/plain": [
       "  period_covered st_abbreviation st_name     drug_spending drug_rebates\n",
       "1 2008           AK              Alaska        82927006      -21507868 \n",
       "2 2008           AL              Alabama      441171250     -139935487 \n",
       "3 2008           AR              Arkansas     326156278     -105904688 \n",
       "4 2008           CA              California  3104054352    -1223480059 \n",
       "5 2008           CO              Colorado     231323507      -73561741 \n",
       "6 2008           CT              Connecticut  355565440      -93077341 \n",
       "  spending_less_rebates medicaid_state medicaid_federal medicaid_total\n",
       "1   61419138              359000000      612000000        971000000   \n",
       "2  301235764             1501000000     2899000000       4400000000   \n",
       "3  220251590              937000000     2494000000       3431000000   \n",
       "4 1880574293            13434000000    24857000000      38291000000   \n",
       "5  157761766             1905204000     1720625000       3625829000   \n",
       "6  262488099             4265000000              0       4265000000   \n",
       "  all_spending_state all_spending_federal all_spending_total\n",
       "1   9342000000        2314000000           11656000000      \n",
       "2  13549000000        6291000000           19840000000      \n",
       "3  12093000000        4806000000           16899000000      \n",
       "4 138065000000       56211000000          194276000000      \n",
       "5  20389260000        4738747000           25128007000      \n",
       "6  22153870636        2116958556           24270829192      \n",
       "  medicaid_as_share_of_all_spending\n",
       "1  8.33                            \n",
       "2 22.18                            \n",
       "3 20.30                            \n",
       "4 19.71                            \n",
       "5 14.43                            \n",
       "6 17.57                            "
      ]
     },
     "metadata": {},
     "output_type": "display_data"
    }
   ],
   "source": [
    "head(df)"
   ]
  },
  {
   "cell_type": "markdown",
   "metadata": {},
   "source": [
    "Get summaries for plots"
   ]
  },
  {
   "cell_type": "code",
   "execution_count": 20,
   "metadata": {},
   "outputs": [
    {
     "data": {
      "text/html": [
       "<ol class=list-inline>\n",
       "\t<li>20.4908256043889</li>\n",
       "\t<li>21.8120288032485</li>\n",
       "\t<li>22.2247089433275</li>\n",
       "\t<li>23.802270895575</li>\n",
       "\t<li>23.9051055342749</li>\n",
       "\t<li>24.3223411090619</li>\n",
       "\t<li>26.5210641509469</li>\n",
       "\t<li>27.9348080983105</li>\n",
       "\t<li>28.7097686626795</li>\n",
       "</ol>\n"
      ],
      "text/latex": [
       "\\begin{enumerate*}\n",
       "\\item 20.4908256043889\n",
       "\\item 21.8120288032485\n",
       "\\item 22.2247089433275\n",
       "\\item 23.802270895575\n",
       "\\item 23.9051055342749\n",
       "\\item 24.3223411090619\n",
       "\\item 26.5210641509469\n",
       "\\item 27.9348080983105\n",
       "\\item 28.7097686626795\n",
       "\\end{enumerate*}\n"
      ],
      "text/markdown": [
       "1. 20.4908256043889\n",
       "2. 21.8120288032485\n",
       "3. 22.2247089433275\n",
       "4. 23.802270895575\n",
       "5. 23.9051055342749\n",
       "6. 24.3223411090619\n",
       "7. 26.5210641509469\n",
       "8. 27.9348080983105\n",
       "9. 28.7097686626795\n",
       "\n",
       "\n"
      ],
      "text/plain": [
       "[1] 20.49083 21.81203 22.22471 23.80227 23.90511 24.32234 26.52106 27.93481\n",
       "[9] 28.70977"
      ]
     },
     "metadata": {},
     "output_type": "display_data"
    },
    {
     "data": {
      "text/html": [
       "<table>\n",
       "<thead><tr><th scope=col>period_covered</th><th scope=col>medicaid_perc</th></tr></thead>\n",
       "<tbody>\n",
       "\t<tr><td>2008    </td><td>20.49083</td></tr>\n",
       "\t<tr><td>2009    </td><td>21.81203</td></tr>\n",
       "\t<tr><td>2010    </td><td>22.22471</td></tr>\n",
       "\t<tr><td>2011    </td><td>23.80227</td></tr>\n",
       "\t<tr><td>2012    </td><td>23.90511</td></tr>\n",
       "\t<tr><td>2013    </td><td>24.32234</td></tr>\n",
       "\t<tr><td>2014    </td><td>26.52106</td></tr>\n",
       "\t<tr><td>2015    </td><td>27.93481</td></tr>\n",
       "\t<tr><td>2016    </td><td>28.70977</td></tr>\n",
       "</tbody>\n",
       "</table>\n"
      ],
      "text/latex": [
       "\\begin{tabular}{r|ll}\n",
       " period\\_covered & medicaid\\_perc\\\\\n",
       "\\hline\n",
       "\t 2008     & 20.49083\\\\\n",
       "\t 2009     & 21.81203\\\\\n",
       "\t 2010     & 22.22471\\\\\n",
       "\t 2011     & 23.80227\\\\\n",
       "\t 2012     & 23.90511\\\\\n",
       "\t 2013     & 24.32234\\\\\n",
       "\t 2014     & 26.52106\\\\\n",
       "\t 2015     & 27.93481\\\\\n",
       "\t 2016     & 28.70977\\\\\n",
       "\\end{tabular}\n"
      ],
      "text/markdown": [
       "\n",
       "period_covered | medicaid_perc | \n",
       "|---|---|---|---|---|---|---|---|---|\n",
       "| 2008     | 20.49083 | \n",
       "| 2009     | 21.81203 | \n",
       "| 2010     | 22.22471 | \n",
       "| 2011     | 23.80227 | \n",
       "| 2012     | 23.90511 | \n",
       "| 2013     | 24.32234 | \n",
       "| 2014     | 26.52106 | \n",
       "| 2015     | 27.93481 | \n",
       "| 2016     | 28.70977 | \n",
       "\n",
       "\n"
      ],
      "text/plain": [
       "  period_covered medicaid_perc\n",
       "1 2008           20.49083     \n",
       "2 2009           21.81203     \n",
       "3 2010           22.22471     \n",
       "4 2011           23.80227     \n",
       "5 2012           23.90511     \n",
       "6 2013           24.32234     \n",
       "7 2014           26.52106     \n",
       "8 2015           27.93481     \n",
       "9 2016           28.70977     "
      ]
     },
     "metadata": {},
     "output_type": "display_data"
    }
   ],
   "source": [
    "amts = df %>%\n",
    "    group_by(period_covered) %>%\n",
    "    summarise(medicaid_perc = sum(medicaid_total)/sum(all_spending_total)*100)\n",
    "amts$medicaid_perc\n",
    "amts"
   ]
  },
  {
   "cell_type": "code",
   "execution_count": 21,
   "metadata": {},
   "outputs": [
    {
     "data": {
      "text/html": [
       "<ol class=list-inline>\n",
       "\t<li>15.18153329139</li>\n",
       "\t<li>15.16975226357</li>\n",
       "\t<li>19.99600380206</li>\n",
       "\t<li>19.75623541306</li>\n",
       "\t<li>18.12829623987</li>\n",
       "\t<li>17.06612402646</li>\n",
       "\t<li>24.1957836903</li>\n",
       "\t<li>27.82638326939</li>\n",
       "\t<li>26.38737682691</li>\n",
       "</ol>\n"
      ],
      "text/latex": [
       "\\begin{enumerate*}\n",
       "\\item 15.18153329139\n",
       "\\item 15.16975226357\n",
       "\\item 19.99600380206\n",
       "\\item 19.75623541306\n",
       "\\item 18.12829623987\n",
       "\\item 17.06612402646\n",
       "\\item 24.1957836903\n",
       "\\item 27.82638326939\n",
       "\\item 26.38737682691\n",
       "\\end{enumerate*}\n"
      ],
      "text/markdown": [
       "1. 15.18153329139\n",
       "2. 15.16975226357\n",
       "3. 19.99600380206\n",
       "4. 19.75623541306\n",
       "5. 18.12829623987\n",
       "6. 17.06612402646\n",
       "7. 24.1957836903\n",
       "8. 27.82638326939\n",
       "9. 26.38737682691\n",
       "\n",
       "\n"
      ],
      "text/plain": [
       "[1] 15.18153 15.16975 19.99600 19.75624 18.12830 17.06612 24.19578 27.82638\n",
       "[9] 26.38738"
      ]
     },
     "metadata": {},
     "output_type": "display_data"
    },
    {
     "data": {
      "text/html": [
       "<table>\n",
       "<thead><tr><th scope=col>period_covered</th><th scope=col>total</th></tr></thead>\n",
       "<tbody>\n",
       "\t<tr><td>2008    </td><td>15.18153</td></tr>\n",
       "\t<tr><td>2009    </td><td>15.16975</td></tr>\n",
       "\t<tr><td>2010    </td><td>19.99600</td></tr>\n",
       "\t<tr><td>2011    </td><td>19.75624</td></tr>\n",
       "\t<tr><td>2012    </td><td>18.12830</td></tr>\n",
       "\t<tr><td>2013    </td><td>17.06612</td></tr>\n",
       "\t<tr><td>2014    </td><td>24.19578</td></tr>\n",
       "\t<tr><td>2015    </td><td>27.82638</td></tr>\n",
       "\t<tr><td>2016    </td><td>26.38738</td></tr>\n",
       "</tbody>\n",
       "</table>\n"
      ],
      "text/latex": [
       "\\begin{tabular}{r|ll}\n",
       " period\\_covered & total\\\\\n",
       "\\hline\n",
       "\t 2008     & 15.18153\\\\\n",
       "\t 2009     & 15.16975\\\\\n",
       "\t 2010     & 19.99600\\\\\n",
       "\t 2011     & 19.75624\\\\\n",
       "\t 2012     & 18.12830\\\\\n",
       "\t 2013     & 17.06612\\\\\n",
       "\t 2014     & 24.19578\\\\\n",
       "\t 2015     & 27.82638\\\\\n",
       "\t 2016     & 26.38738\\\\\n",
       "\\end{tabular}\n"
      ],
      "text/markdown": [
       "\n",
       "period_covered | total | \n",
       "|---|---|---|---|---|---|---|---|---|\n",
       "| 2008     | 15.18153 | \n",
       "| 2009     | 15.16975 | \n",
       "| 2010     | 19.99600 | \n",
       "| 2011     | 19.75624 | \n",
       "| 2012     | 18.12830 | \n",
       "| 2013     | 17.06612 | \n",
       "| 2014     | 24.19578 | \n",
       "| 2015     | 27.82638 | \n",
       "| 2016     | 26.38738 | \n",
       "\n",
       "\n"
      ],
      "text/plain": [
       "  period_covered total   \n",
       "1 2008           15.18153\n",
       "2 2009           15.16975\n",
       "3 2010           19.99600\n",
       "4 2011           19.75624\n",
       "5 2012           18.12830\n",
       "6 2013           17.06612\n",
       "7 2014           24.19578\n",
       "8 2015           27.82638\n",
       "9 2016           26.38738"
      ]
     },
     "metadata": {},
     "output_type": "display_data"
    }
   ],
   "source": [
    "totals = df %>%\n",
    "    group_by(period_covered) %>%\n",
    "    summarise(total = sum(spending_less_rebates)/1000000000)\n",
    "totals$total\n",
    "totals"
   ]
  },
  {
   "cell_type": "markdown",
   "metadata": {},
   "source": [
    "### Drug spending as a percentage of Medicaid by state, over time"
   ]
  },
  {
   "cell_type": "code",
   "execution_count": 22,
   "metadata": {},
   "outputs": [],
   "source": [
    "str2dol = function(arr) {\n",
    "    arr = gsub('\\\\$','',arr) %>% gsub('\\\\,','',.) %>% as.character() %>% as.numeric()\n",
    "    return(arr)\n",
    "}\n",
    "\n",
    "df$spending_less_rebates = str2dol(df$spending_less_rebates)\n",
    "df$medicaid_total = str2dol(df$medicaid_total)"
   ]
  },
  {
   "cell_type": "code",
   "execution_count": 23,
   "metadata": {},
   "outputs": [
    {
     "data": {
      "text/html": [
       "<table>\n",
       "<thead><tr><th scope=col>period_covered</th><th scope=col>st_abbreviation</th><th scope=col>st_name</th><th scope=col>drug_spending</th><th scope=col>drug_rebates</th><th scope=col>spending_less_rebates</th><th scope=col>medicaid_state</th><th scope=col>medicaid_federal</th><th scope=col>medicaid_total</th><th scope=col>all_spending_state</th><th scope=col>all_spending_federal</th><th scope=col>all_spending_total</th><th scope=col>medicaid_as_share_of_all_spending</th></tr></thead>\n",
       "<tbody>\n",
       "\t<tr><td>2008        </td><td>AK          </td><td>Alaska      </td><td>  82927006  </td><td>  -21507868 </td><td>  61419138  </td><td>  359000000 </td><td>  612000000 </td><td>  971000000 </td><td>  9342000000</td><td> 2314000000 </td><td> 11656000000</td><td> 8.33       </td></tr>\n",
       "\t<tr><td>2008        </td><td>AL          </td><td>Alabama     </td><td> 441171250  </td><td> -139935487 </td><td> 301235764  </td><td> 1501000000 </td><td> 2899000000 </td><td> 4400000000 </td><td> 13549000000</td><td> 6291000000 </td><td> 19840000000</td><td>22.18       </td></tr>\n",
       "\t<tr><td>2008        </td><td>AR          </td><td>Arkansas    </td><td> 326156278  </td><td> -105904688 </td><td> 220251590  </td><td>  937000000 </td><td> 2494000000 </td><td> 3431000000 </td><td> 12093000000</td><td> 4806000000 </td><td> 16899000000</td><td>20.30       </td></tr>\n",
       "\t<tr><td>2008        </td><td>CA          </td><td>California  </td><td>3104054352  </td><td>-1223480059 </td><td>1880574293  </td><td>13434000000 </td><td>24857000000 </td><td>38291000000 </td><td>138065000000</td><td>56211000000 </td><td>194276000000</td><td>19.71       </td></tr>\n",
       "\t<tr><td>2008        </td><td>CO          </td><td>Colorado    </td><td> 231323507  </td><td>  -73561741 </td><td> 157761766  </td><td> 1905204000 </td><td> 1720625000 </td><td> 3625829000 </td><td> 20389260000</td><td> 4738747000 </td><td> 25128007000</td><td>14.43       </td></tr>\n",
       "\t<tr><td>2008        </td><td>CT          </td><td>Connecticut </td><td> 355565440  </td><td>  -93077341 </td><td> 262488099  </td><td> 4265000000 </td><td>          0 </td><td> 4265000000 </td><td> 22153870636</td><td> 2116958556 </td><td> 24270829192</td><td>17.57       </td></tr>\n",
       "</tbody>\n",
       "</table>\n"
      ],
      "text/latex": [
       "\\begin{tabular}{r|lllllllllllll}\n",
       " period\\_covered & st\\_abbreviation & st\\_name & drug\\_spending & drug\\_rebates & spending\\_less\\_rebates & medicaid\\_state & medicaid\\_federal & medicaid\\_total & all\\_spending\\_state & all\\_spending\\_federal & all\\_spending\\_total & medicaid\\_as\\_share\\_of\\_all\\_spending\\\\\n",
       "\\hline\n",
       "\t 2008         & AK           & Alaska       &   82927006   &   -21507868  &   61419138   &   359000000  &   612000000  &   971000000  &   9342000000 &  2314000000  &  11656000000 &  8.33       \\\\\n",
       "\t 2008         & AL           & Alabama      &  441171250   &  -139935487  &  301235764   &  1501000000  &  2899000000  &  4400000000  &  13549000000 &  6291000000  &  19840000000 & 22.18       \\\\\n",
       "\t 2008         & AR           & Arkansas     &  326156278   &  -105904688  &  220251590   &   937000000  &  2494000000  &  3431000000  &  12093000000 &  4806000000  &  16899000000 & 20.30       \\\\\n",
       "\t 2008         & CA           & California   & 3104054352   & -1223480059  & 1880574293   & 13434000000  & 24857000000  & 38291000000  & 138065000000 & 56211000000  & 194276000000 & 19.71       \\\\\n",
       "\t 2008         & CO           & Colorado     &  231323507   &   -73561741  &  157761766   &  1905204000  &  1720625000  &  3625829000  &  20389260000 &  4738747000  &  25128007000 & 14.43       \\\\\n",
       "\t 2008         & CT           & Connecticut  &  355565440   &   -93077341  &  262488099   &  4265000000  &           0  &  4265000000  &  22153870636 &  2116958556  &  24270829192 & 17.57       \\\\\n",
       "\\end{tabular}\n"
      ],
      "text/markdown": [
       "\n",
       "period_covered | st_abbreviation | st_name | drug_spending | drug_rebates | spending_less_rebates | medicaid_state | medicaid_federal | medicaid_total | all_spending_state | all_spending_federal | all_spending_total | medicaid_as_share_of_all_spending | \n",
       "|---|---|---|---|---|---|\n",
       "| 2008         | AK           | Alaska       |   82927006   |   -21507868  |   61419138   |   359000000  |   612000000  |   971000000  |   9342000000 |  2314000000  |  11656000000 |  8.33        | \n",
       "| 2008         | AL           | Alabama      |  441171250   |  -139935487  |  301235764   |  1501000000  |  2899000000  |  4400000000  |  13549000000 |  6291000000  |  19840000000 | 22.18        | \n",
       "| 2008         | AR           | Arkansas     |  326156278   |  -105904688  |  220251590   |   937000000  |  2494000000  |  3431000000  |  12093000000 |  4806000000  |  16899000000 | 20.30        | \n",
       "| 2008         | CA           | California   | 3104054352   | -1223480059  | 1880574293   | 13434000000  | 24857000000  | 38291000000  | 138065000000 | 56211000000  | 194276000000 | 19.71        | \n",
       "| 2008         | CO           | Colorado     |  231323507   |   -73561741  |  157761766   |  1905204000  |  1720625000  |  3625829000  |  20389260000 |  4738747000  |  25128007000 | 14.43        | \n",
       "| 2008         | CT           | Connecticut  |  355565440   |   -93077341  |  262488099   |  4265000000  |           0  |  4265000000  |  22153870636 |  2116958556  |  24270829192 | 17.57        | \n",
       "\n",
       "\n"
      ],
      "text/plain": [
       "  period_covered st_abbreviation st_name     drug_spending drug_rebates\n",
       "1 2008           AK              Alaska        82927006      -21507868 \n",
       "2 2008           AL              Alabama      441171250     -139935487 \n",
       "3 2008           AR              Arkansas     326156278     -105904688 \n",
       "4 2008           CA              California  3104054352    -1223480059 \n",
       "5 2008           CO              Colorado     231323507      -73561741 \n",
       "6 2008           CT              Connecticut  355565440      -93077341 \n",
       "  spending_less_rebates medicaid_state medicaid_federal medicaid_total\n",
       "1   61419138              359000000      612000000        971000000   \n",
       "2  301235764             1501000000     2899000000       4400000000   \n",
       "3  220251590              937000000     2494000000       3431000000   \n",
       "4 1880574293            13434000000    24857000000      38291000000   \n",
       "5  157761766             1905204000     1720625000       3625829000   \n",
       "6  262488099             4265000000              0       4265000000   \n",
       "  all_spending_state all_spending_federal all_spending_total\n",
       "1   9342000000        2314000000           11656000000      \n",
       "2  13549000000        6291000000           19840000000      \n",
       "3  12093000000        4806000000           16899000000      \n",
       "4 138065000000       56211000000          194276000000      \n",
       "5  20389260000        4738747000           25128007000      \n",
       "6  22153870636        2116958556           24270829192      \n",
       "  medicaid_as_share_of_all_spending\n",
       "1  8.33                            \n",
       "2 22.18                            \n",
       "3 20.30                            \n",
       "4 19.71                            \n",
       "5 14.43                            \n",
       "6 17.57                            "
      ]
     },
     "metadata": {},
     "output_type": "display_data"
    }
   ],
   "source": [
    "head(df)"
   ]
  },
  {
   "cell_type": "code",
   "execution_count": 24,
   "metadata": {},
   "outputs": [],
   "source": [
    "df$drug_part_medicaid = df$spending_less_rebates/df$medicaid_total*100"
   ]
  },
  {
   "cell_type": "code",
   "execution_count": 25,
   "metadata": {},
   "outputs": [],
   "source": [
    "library(ggplot2)\n",
    "options(repr.plot.width=7, repr.plot.height=7)"
   ]
  },
  {
   "cell_type": "code",
   "execution_count": 26,
   "metadata": {},
   "outputs": [
    {
     "data": {},
     "metadata": {},
     "output_type": "display_data"
    },
    {
     "data": {
      "image/png": "[encoded data removed]",
      "text/plain": [
       "plot without title"
      ]
     },
     "metadata": {},
     "output_type": "display_data"
    }
   ],
   "source": [
    "ggplot(df, aes(period_covered, drug_part_medicaid)) +\n",
    "    geom_line() +\n",
    "    facet_wrap(~ st_name) +\n",
    "    ylab('Drug spending as a percentage of medicaid') +\n",
    "    ylim(c(0,10)) +\n",
    "    xlab('Year') +\n",
    "    theme(axis.text.x = element_text(angle = 90, hjust = 1))"
   ]
  },
  {
   "cell_type": "markdown",
   "metadata": {},
   "source": [
    "# Lobbyists to legislators"
   ]
  },
  {
   "cell_type": "code",
   "execution_count": 2,
   "metadata": {},
   "outputs": [],
   "source": [
    "df = read.csv('lobbyists-unique.csv')\n",
    "totals = read.csv('total-lobbyists.csv')\n",
    "\n",
    "library(dplyr)\n",
    "library(ggplot2)"
   ]
  },
  {
   "cell_type": "code",
   "execution_count": 3,
   "metadata": {},
   "outputs": [
    {
     "data": {
      "text/html": [
       "<table>\n",
       "<thead><tr><th scope=col>year</th><th scope=col>registrations</th><th scope=col>state</th><th scope=col>legislators</th><th scope=col>abbreviation</th><th scope=col>legislators_to_registrations</th></tr></thead>\n",
       "<tbody>\n",
       "\t<tr><td>2008      </td><td> 31       </td><td>Alabama   </td><td>140       </td><td>AL        </td><td>4.5161290 </td></tr>\n",
       "\t<tr><td>2008      </td><td> 22       </td><td>Alaska    </td><td> 60       </td><td>AK        </td><td>2.7272727 </td></tr>\n",
       "\t<tr><td>2008      </td><td> 48       </td><td>Arizona   </td><td> 90       </td><td>AZ        </td><td>1.8750000 </td></tr>\n",
       "\t<tr><td>2008      </td><td> 36       </td><td>Arkansas  </td><td>135       </td><td>AR        </td><td>3.7500000 </td></tr>\n",
       "\t<tr><td>2008      </td><td>144       </td><td>California</td><td>120       </td><td>CA        </td><td>0.8333333 </td></tr>\n",
       "\t<tr><td>2008      </td><td> 32       </td><td>Colorado  </td><td>100       </td><td>CO        </td><td>3.1250000 </td></tr>\n",
       "</tbody>\n",
       "</table>\n"
      ],
      "text/latex": [
       "\\begin{tabular}{r|llllll}\n",
       " year & registrations & state & legislators & abbreviation & legislators\\_to\\_registrations\\\\\n",
       "\\hline\n",
       "\t 2008       &  31        & Alabama    & 140        & AL         & 4.5161290 \\\\\n",
       "\t 2008       &  22        & Alaska     &  60        & AK         & 2.7272727 \\\\\n",
       "\t 2008       &  48        & Arizona    &  90        & AZ         & 1.8750000 \\\\\n",
       "\t 2008       &  36        & Arkansas   & 135        & AR         & 3.7500000 \\\\\n",
       "\t 2008       & 144        & California & 120        & CA         & 0.8333333 \\\\\n",
       "\t 2008       &  32        & Colorado   & 100        & CO         & 3.1250000 \\\\\n",
       "\\end{tabular}\n"
      ],
      "text/markdown": [
       "\n",
       "year | registrations | state | legislators | abbreviation | legislators_to_registrations | \n",
       "|---|---|---|---|---|---|\n",
       "| 2008       |  31        | Alabama    | 140        | AL         | 4.5161290  | \n",
       "| 2008       |  22        | Alaska     |  60        | AK         | 2.7272727  | \n",
       "| 2008       |  48        | Arizona    |  90        | AZ         | 1.8750000  | \n",
       "| 2008       |  36        | Arkansas   | 135        | AR         | 3.7500000  | \n",
       "| 2008       | 144        | California | 120        | CA         | 0.8333333  | \n",
       "| 2008       |  32        | Colorado   | 100        | CO         | 3.1250000  | \n",
       "\n",
       "\n"
      ],
      "text/plain": [
       "  year registrations state      legislators abbreviation\n",
       "1 2008  31           Alabama    140         AL          \n",
       "2 2008  22           Alaska      60         AK          \n",
       "3 2008  48           Arizona     90         AZ          \n",
       "4 2008  36           Arkansas   135         AR          \n",
       "5 2008 144           California 120         CA          \n",
       "6 2008  32           Colorado   100         CO          \n",
       "  legislators_to_registrations\n",
       "1 4.5161290                   \n",
       "2 2.7272727                   \n",
       "3 1.8750000                   \n",
       "4 3.7500000                   \n",
       "5 0.8333333                   \n",
       "6 3.1250000                   "
      ]
     },
     "metadata": {},
     "output_type": "display_data"
    }
   ],
   "source": [
    "head(df)"
   ]
  },
  {
   "cell_type": "code",
   "execution_count": 29,
   "metadata": {},
   "outputs": [
    {
     "data": {},
     "metadata": {},
     "output_type": "display_data"
    },
    {
     "data": {
      "image/png": "[encoded data removed]",
      "text/plain": [
       "plot without title"
      ]
     },
     "metadata": {},
     "output_type": "display_data"
    }
   ],
   "source": [
    "ggplot(df, aes(year, registrations_to_legislators)) + geom_line() + facet_wrap(~ state_name)"
   ]
  },
  {
   "cell_type": "code",
   "execution_count": 5,
   "metadata": {},
   "outputs": [],
   "source": [
    "ratios = df %>%\n",
    "    filter(year == 2017) %>%\n",
    "    group_by(abbreviation) %>%\n",
    "    summarise(ratio = lobbyists_to_legislators) %>%\n",
    "    arrange(-ratio)"
   ]
  },
  {
   "cell_type": "code",
   "execution_count": 6,
   "metadata": {},
   "outputs": [
    {
     "data": {
      "text/html": [
       "<ol class=list-inline>\n",
       "\t<li>CA</li>\n",
       "\t<li>MI</li>\n",
       "\t<li>NJ</li>\n",
       "\t<li>NY</li>\n",
       "\t<li>NV</li>\n",
       "\t<li>OR</li>\n",
       "\t<li>IL</li>\n",
       "\t<li>FL</li>\n",
       "\t<li>OH</li>\n",
       "\t<li>TX</li>\n",
       "\t<li>DE</li>\n",
       "\t<li>TN</li>\n",
       "\t<li>MO</li>\n",
       "\t<li>PA</li>\n",
       "\t<li>AZ</li>\n",
       "\t<li>LA</li>\n",
       "\t<li>KY</li>\n",
       "\t<li>NC</li>\n",
       "\t<li>WA</li>\n",
       "\t<li>GA</li>\n",
       "\t<li>RI</li>\n",
       "\t<li>UT</li>\n",
       "\t<li>CT</li>\n",
       "\t<li>VA</li>\n",
       "\t<li>MD</li>\n",
       "\t<li>CO</li>\n",
       "\t<li>HI</li>\n",
       "\t<li>ID</li>\n",
       "\t<li>IA</li>\n",
       "\t<li>NM</li>\n",
       "\t<li>WI</li>\n",
       "\t<li>AR</li>\n",
       "\t<li>VT</li>\n",
       "\t<li>AL</li>\n",
       "\t<li>MN</li>\n",
       "\t<li>NE</li>\n",
       "\t<li>OK</li>\n",
       "\t<li>WV</li>\n",
       "\t<li>MA</li>\n",
       "\t<li>IN</li>\n",
       "\t<li>MS</li>\n",
       "\t<li>SC</li>\n",
       "\t<li>KS</li>\n",
       "\t<li>ME</li>\n",
       "\t<li>SD</li>\n",
       "\t<li>AK</li>\n",
       "\t<li>NH</li>\n",
       "\t<li>ND</li>\n",
       "\t<li>MT</li>\n",
       "\t<li>WY</li>\n",
       "</ol>\n",
       "\n",
       "<details>\n",
       "\t<summary style=display:list-item;cursor:pointer>\n",
       "\t\t<strong>Levels</strong>:\n",
       "\t</summary>\n",
       "\t<ol class=list-inline>\n",
       "\t\t<li>'AK'</li>\n",
       "\t\t<li>'AL'</li>\n",
       "\t\t<li>'AR'</li>\n",
       "\t\t<li>'AZ'</li>\n",
       "\t\t<li>'CA'</li>\n",
       "\t\t<li>'CO'</li>\n",
       "\t\t<li>'CT'</li>\n",
       "\t\t<li>'DE'</li>\n",
       "\t\t<li>'FL'</li>\n",
       "\t\t<li>'GA'</li>\n",
       "\t\t<li>'HI'</li>\n",
       "\t\t<li>'IA'</li>\n",
       "\t\t<li>'ID'</li>\n",
       "\t\t<li>'IL'</li>\n",
       "\t\t<li>'IN'</li>\n",
       "\t\t<li>'KS'</li>\n",
       "\t\t<li>'KY'</li>\n",
       "\t\t<li>'LA'</li>\n",
       "\t\t<li>'MA'</li>\n",
       "\t\t<li>'MD'</li>\n",
       "\t\t<li>'ME'</li>\n",
       "\t\t<li>'MI'</li>\n",
       "\t\t<li>'MN'</li>\n",
       "\t\t<li>'MO'</li>\n",
       "\t\t<li>'MS'</li>\n",
       "\t\t<li>'MT'</li>\n",
       "\t\t<li>'NC'</li>\n",
       "\t\t<li>'ND'</li>\n",
       "\t\t<li>'NE'</li>\n",
       "\t\t<li>'NH'</li>\n",
       "\t\t<li>'NJ'</li>\n",
       "\t\t<li>'NM'</li>\n",
       "\t\t<li>'NV'</li>\n",
       "\t\t<li>'NY'</li>\n",
       "\t\t<li>'OH'</li>\n",
       "\t\t<li>'OK'</li>\n",
       "\t\t<li>'OR'</li>\n",
       "\t\t<li>'PA'</li>\n",
       "\t\t<li>'RI'</li>\n",
       "\t\t<li>'SC'</li>\n",
       "\t\t<li>'SD'</li>\n",
       "\t\t<li>'TN'</li>\n",
       "\t\t<li>'TX'</li>\n",
       "\t\t<li>'UT'</li>\n",
       "\t\t<li>'VA'</li>\n",
       "\t\t<li>'VT'</li>\n",
       "\t\t<li>'WA'</li>\n",
       "\t\t<li>'WI'</li>\n",
       "\t\t<li>'WV'</li>\n",
       "\t\t<li>'WY'</li>\n",
       "\t</ol>\n",
       "</details>"
      ],
      "text/latex": [
       "\\begin{enumerate*}\n",
       "\\item CA\n",
       "\\item MI\n",
       "\\item NJ\n",
       "\\item NY\n",
       "\\item NV\n",
       "\\item OR\n",
       "\\item IL\n",
       "\\item FL\n",
       "\\item OH\n",
       "\\item TX\n",
       "\\item DE\n",
       "\\item TN\n",
       "\\item MO\n",
       "\\item PA\n",
       "\\item AZ\n",
       "\\item LA\n",
       "\\item KY\n",
       "\\item NC\n",
       "\\item WA\n",
       "\\item GA\n",
       "\\item RI\n",
       "\\item UT\n",
       "\\item CT\n",
       "\\item VA\n",
       "\\item MD\n",
       "\\item CO\n",
       "\\item HI\n",
       "\\item ID\n",
       "\\item IA\n",
       "\\item NM\n",
       "\\item WI\n",
       "\\item AR\n",
       "\\item VT\n",
       "\\item AL\n",
       "\\item MN\n",
       "\\item NE\n",
       "\\item OK\n",
       "\\item WV\n",
       "\\item MA\n",
       "\\item IN\n",
       "\\item MS\n",
       "\\item SC\n",
       "\\item KS\n",
       "\\item ME\n",
       "\\item SD\n",
       "\\item AK\n",
       "\\item NH\n",
       "\\item ND\n",
       "\\item MT\n",
       "\\item WY\n",
       "\\end{enumerate*}\n",
       "\n",
       "\\emph{Levels}: \\begin{enumerate*}\n",
       "\\item 'AK'\n",
       "\\item 'AL'\n",
       "\\item 'AR'\n",
       "\\item 'AZ'\n",
       "\\item 'CA'\n",
       "\\item 'CO'\n",
       "\\item 'CT'\n",
       "\\item 'DE'\n",
       "\\item 'FL'\n",
       "\\item 'GA'\n",
       "\\item 'HI'\n",
       "\\item 'IA'\n",
       "\\item 'ID'\n",
       "\\item 'IL'\n",
       "\\item 'IN'\n",
       "\\item 'KS'\n",
       "\\item 'KY'\n",
       "\\item 'LA'\n",
       "\\item 'MA'\n",
       "\\item 'MD'\n",
       "\\item 'ME'\n",
       "\\item 'MI'\n",
       "\\item 'MN'\n",
       "\\item 'MO'\n",
       "\\item 'MS'\n",
       "\\item 'MT'\n",
       "\\item 'NC'\n",
       "\\item 'ND'\n",
       "\\item 'NE'\n",
       "\\item 'NH'\n",
       "\\item 'NJ'\n",
       "\\item 'NM'\n",
       "\\item 'NV'\n",
       "\\item 'NY'\n",
       "\\item 'OH'\n",
       "\\item 'OK'\n",
       "\\item 'OR'\n",
       "\\item 'PA'\n",
       "\\item 'RI'\n",
       "\\item 'SC'\n",
       "\\item 'SD'\n",
       "\\item 'TN'\n",
       "\\item 'TX'\n",
       "\\item 'UT'\n",
       "\\item 'VA'\n",
       "\\item 'VT'\n",
       "\\item 'WA'\n",
       "\\item 'WI'\n",
       "\\item 'WV'\n",
       "\\item 'WY'\n",
       "\\end{enumerate*}\n"
      ],
      "text/markdown": [
       "1. CA\n",
       "2. MI\n",
       "3. NJ\n",
       "4. NY\n",
       "5. NV\n",
       "6. OR\n",
       "7. IL\n",
       "8. FL\n",
       "9. OH\n",
       "10. TX\n",
       "11. DE\n",
       "12. TN\n",
       "13. MO\n",
       "14. PA\n",
       "15. AZ\n",
       "16. LA\n",
       "17. KY\n",
       "18. NC\n",
       "19. WA\n",
       "20. GA\n",
       "21. RI\n",
       "22. UT\n",
       "23. CT\n",
       "24. VA\n",
       "25. MD\n",
       "26. CO\n",
       "27. HI\n",
       "28. ID\n",
       "29. IA\n",
       "30. NM\n",
       "31. WI\n",
       "32. AR\n",
       "33. VT\n",
       "34. AL\n",
       "35. MN\n",
       "36. NE\n",
       "37. OK\n",
       "38. WV\n",
       "39. MA\n",
       "40. IN\n",
       "41. MS\n",
       "42. SC\n",
       "43. KS\n",
       "44. ME\n",
       "45. SD\n",
       "46. AK\n",
       "47. NH\n",
       "48. ND\n",
       "49. MT\n",
       "50. WY\n",
       "\n",
       "\n",
       "\n",
       "**Levels**: 1. 'AK'\n",
       "2. 'AL'\n",
       "3. 'AR'\n",
       "4. 'AZ'\n",
       "5. 'CA'\n",
       "6. 'CO'\n",
       "7. 'CT'\n",
       "8. 'DE'\n",
       "9. 'FL'\n",
       "10. 'GA'\n",
       "11. 'HI'\n",
       "12. 'IA'\n",
       "13. 'ID'\n",
       "14. 'IL'\n",
       "15. 'IN'\n",
       "16. 'KS'\n",
       "17. 'KY'\n",
       "18. 'LA'\n",
       "19. 'MA'\n",
       "20. 'MD'\n",
       "21. 'ME'\n",
       "22. 'MI'\n",
       "23. 'MN'\n",
       "24. 'MO'\n",
       "25. 'MS'\n",
       "26. 'MT'\n",
       "27. 'NC'\n",
       "28. 'ND'\n",
       "29. 'NE'\n",
       "30. 'NH'\n",
       "31. 'NJ'\n",
       "32. 'NM'\n",
       "33. 'NV'\n",
       "34. 'NY'\n",
       "35. 'OH'\n",
       "36. 'OK'\n",
       "37. 'OR'\n",
       "38. 'PA'\n",
       "39. 'RI'\n",
       "40. 'SC'\n",
       "41. 'SD'\n",
       "42. 'TN'\n",
       "43. 'TX'\n",
       "44. 'UT'\n",
       "45. 'VA'\n",
       "46. 'VT'\n",
       "47. 'WA'\n",
       "48. 'WI'\n",
       "49. 'WV'\n",
       "50. 'WY'\n",
       "\n",
       "\n"
      ],
      "text/plain": [
       " [1] CA MI NJ NY NV OR IL FL OH TX DE TN MO PA AZ LA KY NC WA GA RI UT CT VA MD\n",
       "[26] CO HI ID IA NM WI AR VT AL MN NE OK WV MA IN MS SC KS ME SD AK NH ND MT WY\n",
       "50 Levels: AK AL AR AZ CA CO CT DE FL GA HI IA ID IL IN KS KY LA MA MD ... WY"
      ]
     },
     "metadata": {},
     "output_type": "display_data"
    },
    {
     "data": {
      "text/html": [
       "<ol class=list-inline>\n",
       "\t<li>0.9833333333</li>\n",
       "\t<li>0.9054054054</li>\n",
       "\t<li>0.8916666667</li>\n",
       "\t<li>0.8403755869</li>\n",
       "\t<li>0.6825396825</li>\n",
       "\t<li>0.6444444444</li>\n",
       "\t<li>0.6384180791</li>\n",
       "\t<li>0.575</li>\n",
       "\t<li>0.4696969697</li>\n",
       "\t<li>0.4419889503</li>\n",
       "\t<li>0.4193548387</li>\n",
       "\t<li>0.4090909091</li>\n",
       "\t<li>0.3756345178</li>\n",
       "\t<li>0.371541502</li>\n",
       "\t<li>0.3666666667</li>\n",
       "\t<li>0.3263888889</li>\n",
       "\t<li>0.3260869565</li>\n",
       "\t<li>0.3117647059</li>\n",
       "\t<li>0.2993197279</li>\n",
       "\t<li>0.2966101695</li>\n",
       "\t<li>0.2920353982</li>\n",
       "\t<li>0.2884615385</li>\n",
       "\t<li>0.2780748663</li>\n",
       "\t<li>0.2642857143</li>\n",
       "\t<li>0.2606382979</li>\n",
       "\t<li>0.25</li>\n",
       "\t<li>0.25</li>\n",
       "\t<li>0.2476190476</li>\n",
       "\t<li>0.2466666667</li>\n",
       "\t<li>0.2410714286</li>\n",
       "\t<li>0.2272727273</li>\n",
       "\t<li>0.2148148148</li>\n",
       "\t<li>0.2111111111</li>\n",
       "\t<li>0.2</li>\n",
       "\t<li>0.1890547264</li>\n",
       "\t<li>0.1836734694</li>\n",
       "\t<li>0.1812080537</li>\n",
       "\t<li>0.1791044776</li>\n",
       "\t<li>0.175</li>\n",
       "\t<li>0.1733333333</li>\n",
       "\t<li>0.1609195402</li>\n",
       "\t<li>0.1470588235</li>\n",
       "\t<li>0.1454545455</li>\n",
       "\t<li>0.09139784946</li>\n",
       "\t<li>0.08571428571</li>\n",
       "\t<li>0.06666666667</li>\n",
       "\t<li>0.04716981132</li>\n",
       "\t<li>0.04255319149</li>\n",
       "\t<li>0.04</li>\n",
       "\t<li>0.03333333333</li>\n",
       "</ol>\n"
      ],
      "text/latex": [
       "\\begin{enumerate*}\n",
       "\\item 0.9833333333\n",
       "\\item 0.9054054054\n",
       "\\item 0.8916666667\n",
       "\\item 0.8403755869\n",
       "\\item 0.6825396825\n",
       "\\item 0.6444444444\n",
       "\\item 0.6384180791\n",
       "\\item 0.575\n",
       "\\item 0.4696969697\n",
       "\\item 0.4419889503\n",
       "\\item 0.4193548387\n",
       "\\item 0.4090909091\n",
       "\\item 0.3756345178\n",
       "\\item 0.371541502\n",
       "\\item 0.3666666667\n",
       "\\item 0.3263888889\n",
       "\\item 0.3260869565\n",
       "\\item 0.3117647059\n",
       "\\item 0.2993197279\n",
       "\\item 0.2966101695\n",
       "\\item 0.2920353982\n",
       "\\item 0.2884615385\n",
       "\\item 0.2780748663\n",
       "\\item 0.2642857143\n",
       "\\item 0.2606382979\n",
       "\\item 0.25\n",
       "\\item 0.25\n",
       "\\item 0.2476190476\n",
       "\\item 0.2466666667\n",
       "\\item 0.2410714286\n",
       "\\item 0.2272727273\n",
       "\\item 0.2148148148\n",
       "\\item 0.2111111111\n",
       "\\item 0.2\n",
       "\\item 0.1890547264\n",
       "\\item 0.1836734694\n",
       "\\item 0.1812080537\n",
       "\\item 0.1791044776\n",
       "\\item 0.175\n",
       "\\item 0.1733333333\n",
       "\\item 0.1609195402\n",
       "\\item 0.1470588235\n",
       "\\item 0.1454545455\n",
       "\\item 0.09139784946\n",
       "\\item 0.08571428571\n",
       "\\item 0.06666666667\n",
       "\\item 0.04716981132\n",
       "\\item 0.04255319149\n",
       "\\item 0.04\n",
       "\\item 0.03333333333\n",
       "\\end{enumerate*}\n"
      ],
      "text/markdown": [
       "1. 0.9833333333\n",
       "2. 0.9054054054\n",
       "3. 0.8916666667\n",
       "4. 0.8403755869\n",
       "5. 0.6825396825\n",
       "6. 0.6444444444\n",
       "7. 0.6384180791\n",
       "8. 0.575\n",
       "9. 0.4696969697\n",
       "10. 0.4419889503\n",
       "11. 0.4193548387\n",
       "12. 0.4090909091\n",
       "13. 0.3756345178\n",
       "14. 0.371541502\n",
       "15. 0.3666666667\n",
       "16. 0.3263888889\n",
       "17. 0.3260869565\n",
       "18. 0.3117647059\n",
       "19. 0.2993197279\n",
       "20. 0.2966101695\n",
       "21. 0.2920353982\n",
       "22. 0.2884615385\n",
       "23. 0.2780748663\n",
       "24. 0.2642857143\n",
       "25. 0.2606382979\n",
       "26. 0.25\n",
       "27. 0.25\n",
       "28. 0.2476190476\n",
       "29. 0.2466666667\n",
       "30. 0.2410714286\n",
       "31. 0.2272727273\n",
       "32. 0.2148148148\n",
       "33. 0.2111111111\n",
       "34. 0.2\n",
       "35. 0.1890547264\n",
       "36. 0.1836734694\n",
       "37. 0.1812080537\n",
       "38. 0.1791044776\n",
       "39. 0.175\n",
       "40. 0.1733333333\n",
       "41. 0.1609195402\n",
       "42. 0.1470588235\n",
       "43. 0.1454545455\n",
       "44. 0.09139784946\n",
       "45. 0.08571428571\n",
       "46. 0.06666666667\n",
       "47. 0.04716981132\n",
       "48. 0.04255319149\n",
       "49. 0.04\n",
       "50. 0.03333333333\n",
       "\n",
       "\n"
      ],
      "text/plain": [
       " [1] 0.98333333 0.90540541 0.89166667 0.84037559 0.68253968 0.64444444\n",
       " [7] 0.63841808 0.57500000 0.46969697 0.44198895 0.41935484 0.40909091\n",
       "[13] 0.37563452 0.37154150 0.36666667 0.32638889 0.32608696 0.31176471\n",
       "[19] 0.29931973 0.29661017 0.29203540 0.28846154 0.27807487 0.26428571\n",
       "[25] 0.26063830 0.25000000 0.25000000 0.24761905 0.24666667 0.24107143\n",
       "[31] 0.22727273 0.21481481 0.21111111 0.20000000 0.18905473 0.18367347\n",
       "[37] 0.18120805 0.17910448 0.17500000 0.17333333 0.16091954 0.14705882\n",
       "[43] 0.14545455 0.09139785 0.08571429 0.06666667 0.04716981 0.04255319\n",
       "[49] 0.04000000 0.03333333"
      ]
     },
     "metadata": {},
     "output_type": "display_data"
    }
   ],
   "source": [
    "ratios$abbreviation\n",
    "ratios$ratio"
   ]
  },
  {
   "cell_type": "code",
   "execution_count": 32,
   "metadata": {},
   "outputs": [
    {
     "data": {},
     "metadata": {},
     "output_type": "display_data"
    },
    {
     "data": {
      "image/png": "[encoded data removed]",
      "text/plain": [
       "plot without title"
      ]
     },
     "metadata": {},
     "output_type": "display_data"
    }
   ],
   "source": [
    "ggplot(ratios, aes(reorder(state_name,ratio), ratio)) +\n",
    "    geom_col(width = 0.8, fill = '#17807E', position = position_dodge(width = 20)) +\n",
    "    coord_flip() +\n",
    "    ggtitle('Registered pharma lobbyists per state legislators in 2016') +\n",
    " #   geom_text(aes(label = ratio, hjust = -.1), size = 2.5) +\n",
    "    geom_abline(intercept = 100, slope = 0, size = .2) +\n",
    "    geom_abline(intercept = 200, slope = 0, size = .2) +\n",
    "    geom_abline(intercept = 300, slope = 0, size = .2) +\n",
    "\n",
    "    theme(panel.grid.major = element_blank(),\n",
    "         panel.grid.minor = element_blank(),\n",
    "         panel.background = element_blank(),\n",
    "         legend.position = 'none',\n",
    "         axis.title.y = element_blank(),\n",
    "         axis.ticks.y = element_blank(),\n",
    "         axis.text.y = element_text(size = 7, margin = margin(r = -18)),\n",
    "         axis.ticks.x = element_blank(),\n",
    "         axis.text.x = element_blank(),\n",
    "         axis.title.x = element_blank(),\n",
    "         plot.title = element_text(hjust = .15, margin = margin(b = 20)))"
   ]
  },
  {
   "cell_type": "code",
   "execution_count": 33,
   "metadata": {},
   "outputs": [],
   "source": [
    "ratios = ratios %>% left_join(., totals, by = 'jurisdiction')"
   ]
  },
  {
   "cell_type": "code",
   "execution_count": 34,
   "metadata": {},
   "outputs": [],
   "source": [
    "ratios$diff = ratios$count - ratios$ratio"
   ]
  },
  {
   "cell_type": "code",
   "execution_count": 35,
   "metadata": {},
   "outputs": [],
   "source": [
    "ratios = ratios %>% select(c(1,3,5))"
   ]
  },
  {
   "cell_type": "code",
   "execution_count": 36,
   "metadata": {},
   "outputs": [
    {
     "data": {
      "text/html": [
       "<table>\n",
       "<thead><tr><th scope=col>state_name</th><th scope=col>ratio</th><th scope=col>diff</th></tr></thead>\n",
       "<tbody>\n",
       "\t<tr><td>ALABAMA   </td><td>0.2357143 </td><td> 1929.7643</td></tr>\n",
       "\t<tr><td>ALASKA    </td><td>0.1666667 </td><td>  619.8333</td></tr>\n",
       "\t<tr><td>ARIZONA   </td><td>1.0888889 </td><td>14616.9111</td></tr>\n",
       "\t<tr><td>ARKANSAS  </td><td>0.2814815 </td><td> 3434.7185</td></tr>\n",
       "\t<tr><td>CALIFORNIA</td><td>2.0333333 </td><td>20543.9667</td></tr>\n",
       "\t<tr><td>COLORADO  </td><td>0.8600000 </td><td> 3835.1400</td></tr>\n",
       "</tbody>\n",
       "</table>\n"
      ],
      "text/latex": [
       "\\begin{tabular}{r|lll}\n",
       " state\\_name & ratio & diff\\\\\n",
       "\\hline\n",
       "\t ALABAMA    & 0.2357143  &  1929.7643\\\\\n",
       "\t ALASKA     & 0.1666667  &   619.8333\\\\\n",
       "\t ARIZONA    & 1.0888889  & 14616.9111\\\\\n",
       "\t ARKANSAS   & 0.2814815  &  3434.7185\\\\\n",
       "\t CALIFORNIA & 2.0333333  & 20543.9667\\\\\n",
       "\t COLORADO   & 0.8600000  &  3835.1400\\\\\n",
       "\\end{tabular}\n"
      ],
      "text/markdown": [
       "\n",
       "state_name | ratio | diff | \n",
       "|---|---|---|---|---|---|\n",
       "| ALABAMA    | 0.2357143  |  1929.7643 | \n",
       "| ALASKA     | 0.1666667  |   619.8333 | \n",
       "| ARIZONA    | 1.0888889  | 14616.9111 | \n",
       "| ARKANSAS   | 0.2814815  |  3434.7185 | \n",
       "| CALIFORNIA | 2.0333333  | 20543.9667 | \n",
       "| COLORADO   | 0.8600000  |  3835.1400 | \n",
       "\n",
       "\n"
      ],
      "text/plain": [
       "  state_name ratio     diff      \n",
       "1 ALABAMA    0.2357143  1929.7643\n",
       "2 ALASKA     0.1666667   619.8333\n",
       "3 ARIZONA    1.0888889 14616.9111\n",
       "4 ARKANSAS   0.2814815  3434.7185\n",
       "5 CALIFORNIA 2.0333333 20543.9667\n",
       "6 COLORADO   0.8600000  3835.1400"
      ]
     },
     "metadata": {},
     "output_type": "display_data"
    }
   ],
   "source": [
    "head(ratios)"
   ]
  },
  {
   "cell_type": "code",
   "execution_count": 37,
   "metadata": {},
   "outputs": [
    {
     "ename": "ERROR",
     "evalue": "Error in gather(ratios, type, ratio, 2:3): could not find function \"gather\"\n",
     "execution_count": 37,
     "output_type": "error",
     "traceback": [
      "Error in gather(ratios, type, ratio, 2:3): could not find function \"gather\"\nTraceback:\n"
     ]
    }
   ],
   "source": [
    "temp = gather(ratios, type, ratio, 2:3)"
   ]
  },
  {
   "cell_type": "code",
   "execution_count": null,
   "metadata": {},
   "outputs": [],
   "source": [
    "head(temp)"
   ]
  },
  {
   "cell_type": "code",
   "execution_count": null,
   "metadata": {},
   "outputs": [],
   "source": [
    "ggplot(temp, aes(reorder(state_name,ratio), ratio, fill = type)) +\n",
    "    geom_col(width = 0.8, fill = '#17807E', position = position_dodge(width = 20)) +\n",
    "    coord_flip() +\n",
    "    ggtitle('Registered pharma lobbyists per 100 state legislators in 2016') +\n",
    "    geom_text(aes(label = ratio, hjust = -.1), size = 2.5) +\n",
    "    geom_abline(intercept = 100, slope = 0, size = .2) +\n",
    "    theme(panel.grid.major = element_blank(),\n",
    "         panel.grid.minor = element_blank(),\n",
    "         panel.background = element_blank(),\n",
    "         legend.position = 'none',\n",
    "         axis.title.y = element_blank(),\n",
    "         axis.ticks.y = element_blank(),\n",
    "         axis.text.y = element_text(size = 7, margin = margin(r = -18)),\n",
    "         axis.ticks.x = element_blank(),\n",
    "         axis.text.x = element_blank(),\n",
    "         axis.title.x = element_blank(),\n",
    "         plot.title = element_text(hjust = .15, margin = margin(b = 20)))"
   ]
  },
  {
   "cell_type": "code",
   "execution_count": 41,
   "metadata": {},
   "outputs": [
    {
     "name": "stderr",
     "output_type": "stream",
     "text": [
      "Adding missing grouping variables: `jurisdiction`\n"
     ]
    }
   ],
   "source": [
    "ratios = df %>%\n",
    "    filter(year == 2016) %>%\n",
    "    group_by(jurisdiction) %>%\n",
    "    select(c(state_name, annual_registrations, seats))"
   ]
  },
  {
   "cell_type": "code",
   "execution_count": 39,
   "metadata": {},
   "outputs": [
    {
     "name": "stderr",
     "output_type": "stream",
     "text": [
      "Warning message:\n",
      "“Unknown or uninitialised column: 'annual_registrations'.”Warning message:\n",
      "“Unknown or uninitialised column: 'seats'.”"
     ]
    },
    {
     "ename": "ERROR",
     "evalue": "Error in `$<-.data.frame`(`*tmp*`, ratio, value = numeric(0)): replacement has 0 rows, data has 49\n",
     "execution_count": 39,
     "output_type": "error",
     "traceback": [
      "Error in `$<-.data.frame`(`*tmp*`, ratio, value = numeric(0)): replacement has 0 rows, data has 49\nTraceback:\n",
      "1. `$<-`(`*tmp*`, ratio, value = numeric(0))",
      "2. `$<-.data.frame`(`*tmp*`, ratio, value = numeric(0))",
      "3. stop(sprintf(ngettext(N, \"replacement has %d row, data has %d\", \n .     \"replacement has %d rows, data has %d\"), N, nrows), domain = NA)"
     ]
    }
   ],
   "source": [
    "ratios$ratio = ratios$annual_registrations/ratios$seats\n",
    "ratios = ratios %>% arrange(-ratio)"
   ]
  },
  {
   "cell_type": "code",
   "execution_count": 40,
   "metadata": {},
   "outputs": [
    {
     "name": "stderr",
     "output_type": "stream",
     "text": [
      "Warning message:\n",
      "“Unknown or uninitialised column: 'jurisdiction'.”"
     ]
    },
    {
     "data": {
      "text/plain": [
       "NULL"
      ]
     },
     "metadata": {},
     "output_type": "display_data"
    },
    {
     "name": "stderr",
     "output_type": "stream",
     "text": [
      "Warning message:\n",
      "“Unknown or uninitialised column: 'ratios'.”"
     ]
    },
    {
     "data": {
      "text/plain": [
       "NULL"
      ]
     },
     "metadata": {},
     "output_type": "display_data"
    }
   ],
   "source": [
    "ratios$jurisdiction\n",
    "ratios$ratios"
   ]
  }
 ],
 "metadata": {
  "kernelspec": {
   "display_name": "R",
   "language": "R",
   "name": "ir"
  },
  "language_info": {
   "codemirror_mode": "r",
   "file_extension": ".r",
   "mimetype": "text/x-r-source",
   "name": "R",
   "pygments_lexer": "r",
   "version": "3.4.4"
  }
 },
 "nbformat": 4,
 "nbformat_minor": 2
}
