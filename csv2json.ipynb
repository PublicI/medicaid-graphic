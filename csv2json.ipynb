{
 "cells": [
  {
   "cell_type": "markdown",
   "metadata": {},
   "source": [
    "## Writing a json file for the medicaid graphic"
   ]
  },
  {
   "cell_type": "code",
   "execution_count": null,
   "metadata": {},
   "outputs": [],
   "source": [
    "import csv\n",
    "import json\n",
    "\n",
    "csvfile = open('medicaid_costs_for_graphics.csv', 'r')\n",
    "jsonfile = open('medicaid_costs.json', 'w')\n",
    "\n",
    "fieldnames = (\"period_covered\", \"st_abbreviation\", \"st_spending\",\n",
    "             \"drug_spending\", \"drug_rebates\", \"spending_less_rebates\",\n",
    "             \"medicaid_state\", \"medicaid_federal\", \"medicaid_total\",\n",
    "             \"all_spending_state\", \"all_spending_federal\", \"all_spending_total\",\n",
    "             \"drugs_as_share_of_medicaid\", \"medicaid_as_share_of_all_spending\")\n",
    "\n",
    "reader = csv.DictReader(csvfile, fieldnames)\n",
    "for row in reader:\n",
    "    json.dump(row, jsonfile)\n",
    "    jsonfile.write('\\n')"
   ]
  }
 ],
 "metadata": {
  "kernelspec": {
   "display_name": "Python 3",
   "language": "python",
   "name": "python3"
  },
  "language_info": {
   "codemirror_mode": {
    "name": "ipython",
    "version": 3
   },
   "file_extension": ".py",
   "mimetype": "text/x-python",
   "name": "python",
   "nbconvert_exporter": "python",
   "pygments_lexer": "ipython3",
   "version": "3.6.5"
  }
 },
 "nbformat": 4,
 "nbformat_minor": 2
}
